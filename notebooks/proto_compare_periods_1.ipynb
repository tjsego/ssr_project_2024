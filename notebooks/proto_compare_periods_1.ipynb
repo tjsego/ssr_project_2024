{
 "cells": [
  {
   "cell_type": "code",
   "execution_count": null,
   "metadata": {},
   "outputs": [],
   "source": [
    "import ipywidgets as ipw\n",
    "from IPython.display import display\n",
    "import matplotlib.colors as mcolors\n",
    "from matplotlib import pyplot as plt\n",
    "import numpy as np\n",
    "\n",
    "from stochastic_models import model_sir\n",
    "from stochastic_tests import Test\n",
    "import sim_lib\n",
    "\n",
    "t_fin = 10.0\n",
    "num_steps = 200\n",
    "periods = list(range(1, 5)) + [10, 100, 1000]\n",
    "test_kwargs = dict(t_fin=t_fin, \n",
    "                   num_steps=num_steps, \n",
    "                   trials=[100, 1000, 10000], \n",
    "                   sample_times=[t_fin / num_steps * i for i in range(0, num_steps + 1)])\n",
    "\n",
    "test_template = Test(model=model_sir({'beta': ('norm', (2.0E-6, 0.2E-6))}), stochastic=False, **test_kwargs)\n",
    "\n",
    "_ = sim_lib.start_pool()"
   ]
  },
  {
   "cell_type": "code",
   "execution_count": null,
   "metadata": {},
   "outputs": [],
   "source": [
    "test_template.execute_deterministic()\n",
    "_ = test_template.plot_results_deterministic()"
   ]
  },
  {
   "cell_type": "code",
   "execution_count": null,
   "metadata": {},
   "outputs": [],
   "source": [
    "label, out = ipw.Label(), ipw.Output()\n",
    "display(out)\n",
    "with out:\n",
    "    display(label)\n",
    "\n",
    "test_template.execute_stochastic(label)\n",
    "_ = out.clear_output()"
   ]
  },
  {
   "cell_type": "code",
   "execution_count": null,
   "metadata": {},
   "outputs": [],
   "source": [
    "_ = test_template.plot_results_stochastic()"
   ]
  },
  {
   "cell_type": "code",
   "execution_count": null,
   "metadata": {},
   "outputs": [],
   "source": [
    "_ = test_template.plot_distributions()"
   ]
  },
  {
   "cell_type": "code",
   "execution_count": null,
   "metadata": {},
   "outputs": [],
   "source": [
    "label, out = ipw.Label(), ipw.Output()\n",
    "display(out)\n",
    "with out:\n",
    "    display(label)\n",
    "\n",
    "\n",
    "def eval_by_num_periods(_test: Test, _num_periods: int):\n",
    "    label.value = f'Periods: {_num_periods}... '\n",
    "    test = _test.clone()\n",
    "    test.num_var_pers = _num_periods\n",
    "    label.value += 'Finding ECFs... '\n",
    "    test.find_ecfs()\n",
    "    label.value += 'Finding differences... '\n",
    "    test.measure_ecf_diffs()\n",
    "    label.value += 'Testing samples... '\n",
    "    test.test_sampling(err_thresh=1E-3)\n",
    "    label.value += 'Generating fits... '\n",
    "    test.generate_ecf_sampling_fits()\n",
    "    _ = out.clear_output()\n",
    "    return test\n",
    "\n",
    "\n",
    "tests = {i: eval_by_num_periods(test_template, i) for i in periods}"
   ]
  },
  {
   "cell_type": "markdown",
   "metadata": {},
   "source": [
    "Show how identifying features of the empirical characterstic function are lost when the transform variable domain is too large."
   ]
  },
  {
   "cell_type": "code",
   "execution_count": null,
   "metadata": {},
   "outputs": [],
   "source": [
    "periods_oi = [1, 10, 100, 1000]\n",
    "time_oi = tests[periods_oi[0]].max_ks_stat_time(tests[periods_oi[0]].trials[-1])\n",
    "for i in periods_oi:\n",
    "    test = tests[i]\n",
    "    fig, ax = test.plot_ecf(time=time_oi)\n",
    "    fig.suptitle(f'Periods = {i}')\n",
    "\n",
    "\n",
    "def plot_ecf_sampling(_test: Test, fig=None, ax=None):\n",
    "    avg = np.asarray([_test.ecf_sampling[t][0] for t in _test.trials], dtype=float)\n",
    "    std = np.asarray([_test.ecf_sampling[t][1] for t in _test.trials], dtype=float)\n",
    "    if ax is None:\n",
    "        ax = fig.subplots(1, 1)\n",
    "    ax.errorbar(_test.trials, avg, yerr=std, marker='o', linestyle='none')\n",
    "    ax.set_xlabel('No. trials')\n",
    "    ax.set_ylabel('Test statistic')\n",
    "    ax.set_xscale('log')\n",
    "    ax.set_yscale('log')\n",
    "\n",
    "    for i, data_f in enumerate(_test.ecf_sampling_fits[0]):\n",
    "        if data_f is not None:\n",
    "            ax.plot(_test.trials, [Test.ecf_diff_fit_func(n, *data_f) for n in _test.trials], label=f'Sample size {_test.trials[i+1]}')\n",
    "\n",
    "    return fig, ax\n",
    "\n",
    "\n",
    "fig_ax = plt.subplots(2, len(test_template.model.results_names), figsize=(12.0, 6.0), layout='compressed')\n",
    "for i in periods_oi:\n",
    "    test = tests[i]\n",
    "\n",
    "    trial = test.trials[-1]\n",
    "\n",
    "    idx = test.sims_s[trial].get_time_index(time_oi)\n",
    "    for j, name in enumerate(test.model.results_names):\n",
    "        ecfs = test.ecf[trial][idx][name]\n",
    "        eval_times = list(range(len(ecfs[:, 0])))\n",
    "        fig_ax[1][0][j].plot(eval_times, ecfs[:, 0], label=f'Trials: {trial}')\n",
    "        fig_ax[1][1][j].plot(eval_times, ecfs[:, 1], label=f'Trials: {trial}')\n",
    "\n",
    "for j, name in enumerate(test.model.results_names):\n",
    "    fig_ax[1][0][j].set_title(name)\n",
    "    fig_ax[1][1][j].set_xlabel('Datum')\n",
    "fig_ax[1][0][0].set_ylabel('Real')\n",
    "fig_ax[1][1][0].set_ylabel('Imaginary')\n",
    "fig_ax[0].suptitle(f'Empirical characteristic functions (time={time_oi})')\n",
    "fig_ax[0].legend(labels=[f'Periods: {p}' for p in periods_oi])\n",
    "\n",
    "\n",
    "fig_ax = plt.subplots(1, 1, figsize=(6.0, 3.0), layout='compressed')\n",
    "for i in periods_oi:\n",
    "    test = tests[i]\n",
    "    plot_ecf_sampling(test, ax=fig_ax[1])\n",
    "fig_ax[0].suptitle('Sample self-similarity test statistic')\n",
    "fig_ax[1].legend([f'Period: {i}' for i in periods])\n",
    "_ = fig_ax[1].set_xlim(test_kwargs['trials'][0] * 0.9, test_kwargs['trials'][-1] * 1.1)"
   ]
  },
  {
   "cell_type": "code",
   "execution_count": null,
   "metadata": {},
   "outputs": [],
   "source": [
    "fig_ax = plt.subplots(1, 1, figsize=(20.0, 5.0), layout='compressed')\n",
    "\n",
    "data = []\n",
    "labels = []\n",
    "for t in test_template.trials:\n",
    "    for n, v in tests.items():\n",
    "        data.append(v.ks_stats_sampling[t])\n",
    "        labels.append(f'{t}/{n}')\n",
    "\n",
    "bplot = fig_ax[1].boxplot(data, labels=labels, vert=True, patch_artist=True)\n",
    "fig_ax[1].set_yscale('log')\n",
    "fig_ax[1].set_xlabel('Sample size/No. periods')\n",
    "fig_ax[1].set_ylabel('Test for reproducibility EFECT error')\n",
    "fig_ax[1].set_xticklabels(fig_ax[1].get_xticklabels(), rotation=90, ha='right')\n",
    "\n",
    "color_names = list(mcolors.TABLEAU_COLORS)\n",
    "for i, patch in enumerate(bplot['boxes']):\n",
    "    patch.set_facecolor(color_names[i % len(periods)])"
   ]
  },
  {
   "cell_type": "code",
   "execution_count": null,
   "metadata": {},
   "outputs": [],
   "source": [
    "for k, v in tests.items():\n",
    "    fp = f'proto_compare_periods_1_{k}.json'\n",
    "    print('Saving output:', fp)\n",
    "    v.save(fp)"
   ]
  }
 ],
 "metadata": {
  "kernelspec": {
   "display_name": "stoch_repro",
   "language": "python",
   "name": "python3"
  },
  "language_info": {
   "codemirror_mode": {
    "name": "ipython",
    "version": 3
   },
   "file_extension": ".py",
   "mimetype": "text/x-python",
   "name": "python",
   "nbconvert_exporter": "python",
   "pygments_lexer": "ipython3",
   "version": "3.10.13"
  }
 },
 "nbformat": 4,
 "nbformat_minor": 2
}
