{
 "cells": [
  {
   "cell_type": "markdown",
   "metadata": {},
   "source": [
    "This example fails because of the SBML symbol \"kf_Pip2 xPlcCa\". "
   ]
  },
  {
   "cell_type": "code",
   "execution_count": 1,
   "id": "341b8329",
   "metadata": {},
   "outputs": [
    {
     "ename": "RuntimeError",
     "evalue": "the symbol 'kf_Pip2 xPlcCa' is not physically stored in the ModelData structure, it either does not exists or is defined by an assigment rule (hence it is not a terminal symbol), at ?loadSymbolValue@ModelDataLoadSymbolResolver@rrllvm@@UEAAPEAVValue@llvm@@AEBV?$basic_string@DU?$char_traits@D@std@@V?$allocator@D@2@@std@@AEBV?$ArrayRef@PEAVValue@llvm@@@4@@Z",
     "output_type": "error",
     "traceback": [
      "\u001b[1;31m---------------------------------------------------------------------------\u001b[0m",
      "\u001b[1;31mRuntimeError\u001b[0m                              Traceback (most recent call last)",
      "\u001b[1;32mc:\\Users\\timothy.sego\\Desktop\\Current\\stochastic_repro\\source\\proto_bm_blackwell2019.ipynb Cell 1\u001b[0m line \u001b[0;36m1\n\u001b[0;32m     <a href='vscode-notebook-cell:/c%3A/Users/timothy.sego/Desktop/Current/stochastic_repro/source/proto_bm_blackwell2019.ipynb#W0sZmlsZQ%3D%3D?line=9'>10</a>\u001b[0m t_fin \u001b[39m=\u001b[39m \u001b[39m300.0\u001b[39m\n\u001b[0;32m     <a href='vscode-notebook-cell:/c%3A/Users/timothy.sego/Desktop/Current/stochastic_repro/source/proto_bm_blackwell2019.ipynb#W0sZmlsZQ%3D%3D?line=10'>11</a>\u001b[0m num_steps \u001b[39m=\u001b[39m \u001b[39m1000\u001b[39m\n\u001b[1;32m---> <a href='vscode-notebook-cell:/c%3A/Users/timothy.sego/Desktop/Current/stochastic_repro/source/proto_bm_blackwell2019.ipynb#W0sZmlsZQ%3D%3D?line=12'>13</a>\u001b[0m test \u001b[39m=\u001b[39m Test(model\u001b[39m=\u001b[39mbiomodels_2006170003(),\n\u001b[0;32m     <a href='vscode-notebook-cell:/c%3A/Users/timothy.sego/Desktop/Current/stochastic_repro/source/proto_bm_blackwell2019.ipynb#W0sZmlsZQ%3D%3D?line=13'>14</a>\u001b[0m             t_fin\u001b[39m=\u001b[39mt_fin,\n\u001b[0;32m     <a href='vscode-notebook-cell:/c%3A/Users/timothy.sego/Desktop/Current/stochastic_repro/source/proto_bm_blackwell2019.ipynb#W0sZmlsZQ%3D%3D?line=14'>15</a>\u001b[0m             num_steps\u001b[39m=\u001b[39mnum_steps,\n\u001b[0;32m     <a href='vscode-notebook-cell:/c%3A/Users/timothy.sego/Desktop/Current/stochastic_repro/source/proto_bm_blackwell2019.ipynb#W0sZmlsZQ%3D%3D?line=15'>16</a>\u001b[0m             sample_times\u001b[39m=\u001b[39m[t_fin \u001b[39m/\u001b[39m num_steps \u001b[39m*\u001b[39m i \u001b[39mfor\u001b[39;00m i \u001b[39min\u001b[39;00m \u001b[39mrange\u001b[39m(\u001b[39m1\u001b[39m, num_steps \u001b[39m+\u001b[39m \u001b[39m1\u001b[39m)],\n\u001b[0;32m     <a href='vscode-notebook-cell:/c%3A/Users/timothy.sego/Desktop/Current/stochastic_repro/source/proto_bm_blackwell2019.ipynb#W0sZmlsZQ%3D%3D?line=16'>17</a>\u001b[0m             trials\u001b[39m=\u001b[39m[\u001b[39m10\u001b[39m, \u001b[39m50\u001b[39m, \u001b[39m100\u001b[39m, \u001b[39m500\u001b[39m, \u001b[39m1000\u001b[39m, \u001b[39m5000\u001b[39m, \u001b[39m10000\u001b[39m],\n\u001b[0;32m     <a href='vscode-notebook-cell:/c%3A/Users/timothy.sego/Desktop/Current/stochastic_repro/source/proto_bm_blackwell2019.ipynb#W0sZmlsZQ%3D%3D?line=17'>18</a>\u001b[0m             stochastic\u001b[39m=\u001b[39m\u001b[39mTrue\u001b[39;00m)\n",
      "File \u001b[1;32mc:\\Users\\timothy.sego\\Desktop\\Current\\stochastic_repro\\source\\stochastic_models.py:327\u001b[0m, in \u001b[0;36mbiomodels_2006170003\u001b[1;34m(*args, **kwargs)\u001b[0m\n\u001b[0;32m    326\u001b[0m \u001b[39mdef\u001b[39;00m \u001b[39mbiomodels_2006170003\u001b[39m(\u001b[39m*\u001b[39margs, \u001b[39m*\u001b[39m\u001b[39m*\u001b[39mkwargs):\n\u001b[1;32m--> 327\u001b[0m     \u001b[39mreturn\u001b[39;00m OnlineSBMLModel(\n\u001b[0;32m    328\u001b[0m         \u001b[39m\"\u001b[39m\u001b[39mhttps://www.ebi.ac.uk/biomodels/services/download/get-files/MODEL2006170003/4/D1_Gq_EJN_fixed.xml\u001b[39m\u001b[39m\"\u001b[39m,\n\u001b[0;32m    329\u001b[0m         [\n\u001b[0;32m    330\u001b[0m             \u001b[39m\"\u001b[39m\u001b[39mGqabg\u001b[39m\u001b[39m\"\u001b[39m, \n\u001b[0;32m    331\u001b[0m             \u001b[39m\"\u001b[39m\u001b[39mmGluR\u001b[39m\u001b[39m\"\u001b[39m, \n\u001b[0;32m    332\u001b[0m             \u001b[39m\"\u001b[39m\u001b[39mGlu\u001b[39m\u001b[39m\"\u001b[39m, \n\u001b[0;32m    333\u001b[0m             \u001b[39m\"\u001b[39m\u001b[39mCa1\u001b[39m\u001b[39m\"\u001b[39m, \n\u001b[0;32m    334\u001b[0m             \u001b[39m\"\u001b[39m\u001b[39mGlu_mGluR_Gqabg\u001b[39m\u001b[39m\"\u001b[39m, \n\u001b[0;32m    335\u001b[0m             \u001b[39m\"\u001b[39m\u001b[39mGlu_mGluR\u001b[39m\u001b[39m\"\u001b[39m, \n\u001b[0;32m    336\u001b[0m             \u001b[39m\"\u001b[39m\u001b[39mGqaGTP\u001b[39m\u001b[39m\"\u001b[39m, \n\u001b[0;32m    337\u001b[0m             \u001b[39m\"\u001b[39m\u001b[39mGqaGDP\u001b[39m\u001b[39m\"\u001b[39m, \n\u001b[0;32m    338\u001b[0m             \u001b[39m\"\u001b[39m\u001b[39mPlc\u001b[39m\u001b[39m\"\u001b[39m, \n\u001b[0;32m    339\u001b[0m             \u001b[39m\"\u001b[39m\u001b[39mIP3\u001b[39m\u001b[39m\"\u001b[39m, \n\u001b[0;32m    340\u001b[0m             \u001b[39m\"\u001b[39m\u001b[39mPlc_Ca\u001b[39m\u001b[39m\"\u001b[39m, \n\u001b[0;32m    341\u001b[0m             \u001b[39m\"\u001b[39m\u001b[39mPlc_Ca_GqaGTP\u001b[39m\u001b[39m\"\u001b[39m, \n\u001b[0;32m    342\u001b[0m             \u001b[39m\"\u001b[39m\u001b[39mPip2\u001b[39m\u001b[39m\"\u001b[39m, \n\u001b[0;32m    343\u001b[0m             \u001b[39m\"\u001b[39m\u001b[39mPlc_Ca_Pip2\u001b[39m\u001b[39m\"\u001b[39m, \n\u001b[0;32m    344\u001b[0m             \u001b[39m\"\u001b[39m\u001b[39mDag\u001b[39m\u001b[39m\"\u001b[39m, \n\u001b[0;32m    345\u001b[0m             \u001b[39m\"\u001b[39m\u001b[39mPlc_Ca_GqaGTP_Pip2\u001b[39m\u001b[39m\"\u001b[39m, \n\u001b[0;32m    346\u001b[0m             \u001b[39m\"\u001b[39m\u001b[39mPlc_GqaGTP\u001b[39m\u001b[39m\"\u001b[39m, \n\u001b[0;32m    347\u001b[0m             \u001b[39m\"\u001b[39m\u001b[39mDagL\u001b[39m\u001b[39m\"\u001b[39m, \n\u001b[0;32m    348\u001b[0m             \u001b[39m\"\u001b[39m\u001b[39mCa_DagL\u001b[39m\u001b[39m\"\u001b[39m, \n\u001b[0;32m    349\u001b[0m             \u001b[39m\"\u001b[39m\u001b[39mDag_Ca_DagL\u001b[39m\u001b[39m\"\u001b[39m, \n\u001b[0;32m    350\u001b[0m             \u001b[39m\"\u001b[39m\u001b[39mTwoAG\u001b[39m\u001b[39m\"\u001b[39m, \n\u001b[0;32m    351\u001b[0m             \u001b[39m\"\u001b[39m\u001b[39mDagK\u001b[39m\u001b[39m\"\u001b[39m, \n\u001b[0;32m    352\u001b[0m             \u001b[39m\"\u001b[39m\u001b[39mDagK_Dag\u001b[39m\u001b[39m\"\u001b[39m, \n\u001b[0;32m    353\u001b[0m             \u001b[39m\"\u001b[39m\u001b[39mPA\u001b[39m\u001b[39m\"\u001b[39m, \n\u001b[0;32m    354\u001b[0m             \u001b[39m\"\u001b[39m\u001b[39mPKC\u001b[39m\u001b[39m\"\u001b[39m, \n\u001b[0;32m    355\u001b[0m             \u001b[39m\"\u001b[39m\u001b[39mPKC_Ca\u001b[39m\u001b[39m\"\u001b[39m, \n\u001b[0;32m    356\u001b[0m             \u001b[39m\"\u001b[39m\u001b[39mPKCt\u001b[39m\u001b[39m\"\u001b[39m, \n\u001b[0;32m    357\u001b[0m             \u001b[39m\"\u001b[39m\u001b[39mPIkin\u001b[39m\u001b[39m\"\u001b[39m, \n\u001b[0;32m    358\u001b[0m             \u001b[39m\"\u001b[39m\u001b[39mIP3_deg\u001b[39m\u001b[39m\"\u001b[39m, \n\u001b[0;32m    359\u001b[0m             \u001b[39m\"\u001b[39m\u001b[39mIP3_deg_PIkin\u001b[39m\u001b[39m\"\u001b[39m, \n\u001b[0;32m    360\u001b[0m             \u001b[39m\"\u001b[39m\u001b[39mTwoAG_degrad\u001b[39m\u001b[39m\"\u001b[39m, \n\u001b[0;32m    361\u001b[0m             \u001b[39m\"\u001b[39m\u001b[39mGlu_mGluR_desens\u001b[39m\u001b[39m\"\u001b[39m, \n\u001b[0;32m    362\u001b[0m             \u001b[39m\"\u001b[39m\u001b[39mGlu_out\u001b[39m\u001b[39m\"\u001b[39m, \n\u001b[0;32m    363\u001b[0m             \u001b[39m\"\u001b[39m\u001b[39mGqabg_mGluR\u001b[39m\u001b[39m\"\u001b[39m, \n\u001b[0;32m    364\u001b[0m             \u001b[39m\"\u001b[39m\u001b[39mDa\u001b[39m\u001b[39m\"\u001b[39m, \n\u001b[0;32m    365\u001b[0m             \u001b[39m\"\u001b[39m\u001b[39mDa_Out\u001b[39m\u001b[39m\"\u001b[39m, \n\u001b[0;32m    366\u001b[0m             \u001b[39m\"\u001b[39m\u001b[39mD1R\u001b[39m\u001b[39m\"\u001b[39m, \n\u001b[0;32m    367\u001b[0m             \u001b[39m\"\u001b[39m\u001b[39mDa_D1R\u001b[39m\u001b[39m\"\u001b[39m, \n\u001b[0;32m    368\u001b[0m             \u001b[39m\"\u001b[39m\u001b[39mGsabg\u001b[39m\u001b[39m\"\u001b[39m, \n\u001b[0;32m    369\u001b[0m             \u001b[39m\"\u001b[39m\u001b[39mDa_D1R_Gsabg\u001b[39m\u001b[39m\"\u001b[39m, \n\u001b[0;32m    370\u001b[0m             \u001b[39m\"\u001b[39m\u001b[39mGsaGTP\u001b[39m\u001b[39m\"\u001b[39m, \n\u001b[0;32m    371\u001b[0m             \u001b[39m\"\u001b[39m\u001b[39mGsabg_D1R\u001b[39m\u001b[39m\"\u001b[39m, \n\u001b[0;32m    372\u001b[0m             \u001b[39m\"\u001b[39m\u001b[39mGsaGDP\u001b[39m\u001b[39m\"\u001b[39m, \n\u001b[0;32m    373\u001b[0m             \u001b[39m\"\u001b[39m\u001b[39mAch\u001b[39m\u001b[39m\"\u001b[39m, \n\u001b[0;32m    374\u001b[0m             \u001b[39m\"\u001b[39m\u001b[39mM4R\u001b[39m\u001b[39m\"\u001b[39m, \n\u001b[0;32m    375\u001b[0m             \u001b[39m\"\u001b[39m\u001b[39mAch_M4R\u001b[39m\u001b[39m\"\u001b[39m, \n\u001b[0;32m    376\u001b[0m             \u001b[39m\"\u001b[39m\u001b[39mGiabg\u001b[39m\u001b[39m\"\u001b[39m, \n\u001b[0;32m    377\u001b[0m             \u001b[39m\"\u001b[39m\u001b[39mGiabg_M4R\u001b[39m\u001b[39m\"\u001b[39m, \n\u001b[0;32m    378\u001b[0m             \u001b[39m\"\u001b[39m\u001b[39mAch_M4R_Giabg\u001b[39m\u001b[39m\"\u001b[39m, \n\u001b[0;32m    379\u001b[0m             \u001b[39m\"\u001b[39m\u001b[39mGiaGTP\u001b[39m\u001b[39m\"\u001b[39m, \n\u001b[0;32m    380\u001b[0m             \u001b[39m\"\u001b[39m\u001b[39mM1R\u001b[39m\u001b[39m\"\u001b[39m, \n\u001b[0;32m    381\u001b[0m             \u001b[39m\"\u001b[39m\u001b[39mAch_M1R\u001b[39m\u001b[39m\"\u001b[39m, \n\u001b[0;32m    382\u001b[0m             \u001b[39m\"\u001b[39m\u001b[39mAch_M1R_Gqabg\u001b[39m\u001b[39m\"\u001b[39m, \n\u001b[0;32m    383\u001b[0m             \u001b[39m\"\u001b[39m\u001b[39mM1R_Gqabg\u001b[39m\u001b[39m\"\u001b[39m, \n\u001b[0;32m    384\u001b[0m             \u001b[39m\"\u001b[39m\u001b[39mGiaGDP\u001b[39m\u001b[39m\"\u001b[39m, \n\u001b[0;32m    385\u001b[0m             \u001b[39m\"\u001b[39m\u001b[39mATP\u001b[39m\u001b[39m\"\u001b[39m, \n\u001b[0;32m    386\u001b[0m             \u001b[39m\"\u001b[39m\u001b[39mcAMP\u001b[39m\u001b[39m\"\u001b[39m, \n\u001b[0;32m    387\u001b[0m             \u001b[39m\"\u001b[39m\u001b[39mAMP\u001b[39m\u001b[39m\"\u001b[39m, \n\u001b[0;32m    388\u001b[0m             \u001b[39m\"\u001b[39m\u001b[39mpPDE10\u001b[39m\u001b[39m\"\u001b[39m, \n\u001b[0;32m    389\u001b[0m             \u001b[39m\"\u001b[39m\u001b[39mPDE10\u001b[39m\u001b[39m\"\u001b[39m, \n\u001b[0;32m    390\u001b[0m             \u001b[39m\"\u001b[39m\u001b[39mPDE10_cAMP\u001b[39m\u001b[39m\"\u001b[39m, \n\u001b[0;32m    391\u001b[0m             \u001b[39m\"\u001b[39m\u001b[39mpPDE10_cAMP\u001b[39m\u001b[39m\"\u001b[39m, \n\u001b[0;32m    392\u001b[0m             \u001b[39m\"\u001b[39m\u001b[39mPKAc\u001b[39m\u001b[39m\"\u001b[39m, \n\u001b[0;32m    393\u001b[0m             \u001b[39m\"\u001b[39m\u001b[39mPP1\u001b[39m\u001b[39m\"\u001b[39m, \n\u001b[0;32m    394\u001b[0m             \u001b[39m\"\u001b[39m\u001b[39mPKAc_PDE10\u001b[39m\u001b[39m\"\u001b[39m, \n\u001b[0;32m    395\u001b[0m             \u001b[39m\"\u001b[39m\u001b[39mPKAc_PDE10_cAMP\u001b[39m\u001b[39m\"\u001b[39m, \n\u001b[0;32m    396\u001b[0m             \u001b[39m\"\u001b[39m\u001b[39mPDE4\u001b[39m\u001b[39m\"\u001b[39m, \n\u001b[0;32m    397\u001b[0m             \u001b[39m\"\u001b[39m\u001b[39mPKAc_PDE4\u001b[39m\u001b[39m\"\u001b[39m, \n\u001b[0;32m    398\u001b[0m             \u001b[39m\"\u001b[39m\u001b[39mPDE4_cAMP\u001b[39m\u001b[39m\"\u001b[39m, \n\u001b[0;32m    399\u001b[0m             \u001b[39m\"\u001b[39m\u001b[39mpPDE4\u001b[39m\u001b[39m\"\u001b[39m, \n\u001b[0;32m    400\u001b[0m             \u001b[39m\"\u001b[39m\u001b[39mpPDE4_cAMP\u001b[39m\u001b[39m\"\u001b[39m, \n\u001b[0;32m    401\u001b[0m             \u001b[39m\"\u001b[39m\u001b[39mPKAc_PDE4_cAMP\u001b[39m\u001b[39m\"\u001b[39m, \n\u001b[0;32m    402\u001b[0m             \u001b[39m\"\u001b[39m\u001b[39mCK_Cam_Ca4\u001b[39m\u001b[39m\"\u001b[39m, \n\u001b[0;32m    403\u001b[0m             \u001b[39m\"\u001b[39m\u001b[39mpCK_Cam_Ca4\u001b[39m\u001b[39m\"\u001b[39m, \n\u001b[0;32m    404\u001b[0m             \u001b[39m\"\u001b[39m\u001b[39mpCK\u001b[39m\u001b[39m\"\u001b[39m, \n\u001b[0;32m    405\u001b[0m             \u001b[39m\"\u001b[39m\u001b[39mCK_Cam_Ca4_DagL\u001b[39m\u001b[39m\"\u001b[39m, \n\u001b[0;32m    406\u001b[0m             \u001b[39m\"\u001b[39m\u001b[39mpDagL\u001b[39m\u001b[39m\"\u001b[39m, \n\u001b[0;32m    407\u001b[0m             \u001b[39m\"\u001b[39m\u001b[39mpCK_Cam_Ca4_DagL\u001b[39m\u001b[39m\"\u001b[39m, \n\u001b[0;32m    408\u001b[0m             \u001b[39m\"\u001b[39m\u001b[39mpCK_Cam_Ca4_Ca_DagL\u001b[39m\u001b[39m\"\u001b[39m, \n\u001b[0;32m    409\u001b[0m             \u001b[39m\"\u001b[39m\u001b[39mCa_pDagL\u001b[39m\u001b[39m\"\u001b[39m, \n\u001b[0;32m    410\u001b[0m             \u001b[39m\"\u001b[39m\u001b[39mCK_Cam_Ca4_Ca_DagL\u001b[39m\u001b[39m\"\u001b[39m, \n\u001b[0;32m    411\u001b[0m             \u001b[39m\"\u001b[39m\u001b[39mpCK_DagL\u001b[39m\u001b[39m\"\u001b[39m, \n\u001b[0;32m    412\u001b[0m             \u001b[39m\"\u001b[39m\u001b[39mGlu_Gbuf\u001b[39m\u001b[39m\"\u001b[39m, \n\u001b[0;32m    413\u001b[0m             \u001b[39m\"\u001b[39m\u001b[39mGbuf\u001b[39m\u001b[39m\"\u001b[39m, \n\u001b[0;32m    414\u001b[0m             \u001b[39m\"\u001b[39m\u001b[39mPMCA\u001b[39m\u001b[39m\"\u001b[39m, \n\u001b[0;32m    415\u001b[0m             \u001b[39m\"\u001b[39m\u001b[39mPMCA_Ca\u001b[39m\u001b[39m\"\u001b[39m, \n\u001b[0;32m    416\u001b[0m             \u001b[39m\"\u001b[39m\u001b[39mncx\u001b[39m\u001b[39m\"\u001b[39m, \n\u001b[0;32m    417\u001b[0m             \u001b[39m\"\u001b[39m\u001b[39mncx_Ca\u001b[39m\u001b[39m\"\u001b[39m, \n\u001b[0;32m    418\u001b[0m             \u001b[39m\"\u001b[39m\u001b[39mCa_Out\u001b[39m\u001b[39m\"\u001b[39m, \n\u001b[0;32m    419\u001b[0m             \u001b[39m\"\u001b[39m\u001b[39mLeak\u001b[39m\u001b[39m\"\u001b[39m, \n\u001b[0;32m    420\u001b[0m             \u001b[39m\"\u001b[39m\u001b[39mCaOut_Leak\u001b[39m\u001b[39m\"\u001b[39m, \n\u001b[0;32m    421\u001b[0m             \u001b[39m\"\u001b[39m\u001b[39mPKAc_Da_D1R_Gsabg\u001b[39m\u001b[39m\"\u001b[39m, \n\u001b[0;32m    422\u001b[0m             \u001b[39m\"\u001b[39m\u001b[39mDa_pD1R_Gsabg\u001b[39m\u001b[39m\"\u001b[39m, \n\u001b[0;32m    423\u001b[0m             \u001b[39m\"\u001b[39m\u001b[39mDa_Dbuf\u001b[39m\u001b[39m\"\u001b[39m, \n\u001b[0;32m    424\u001b[0m             \u001b[39m\"\u001b[39m\u001b[39mDbuf\u001b[39m\u001b[39m\"\u001b[39m, \n\u001b[0;32m    425\u001b[0m             \u001b[39m\"\u001b[39m\u001b[39mAC5\u001b[39m\u001b[39m\"\u001b[39m, \n\u001b[0;32m    426\u001b[0m             \u001b[39m\"\u001b[39m\u001b[39mAC5_GiaGTP\u001b[39m\u001b[39m\"\u001b[39m, \n\u001b[0;32m    427\u001b[0m             \u001b[39m\"\u001b[39m\u001b[39mAC5_GsaGTP\u001b[39m\u001b[39m\"\u001b[39m, \n\u001b[0;32m    428\u001b[0m             \u001b[39m\"\u001b[39m\u001b[39mAC5_GsaGTP_GiaGTP\u001b[39m\u001b[39m\"\u001b[39m, \n\u001b[0;32m    429\u001b[0m             \u001b[39m\"\u001b[39m\u001b[39mAC5_GsaGTP_ATP\u001b[39m\u001b[39m\"\u001b[39m, \n\u001b[0;32m    430\u001b[0m             \u001b[39m\"\u001b[39m\u001b[39mAC5_GsaGTP_GiaGTP_ATP\u001b[39m\u001b[39m\"\u001b[39m, \n\u001b[0;32m    431\u001b[0m             \u001b[39m\"\u001b[39m\u001b[39mPDE1\u001b[39m\u001b[39m\"\u001b[39m, \n\u001b[0;32m    432\u001b[0m             \u001b[39m\"\u001b[39m\u001b[39mCam_Ca4\u001b[39m\u001b[39m\"\u001b[39m, \n\u001b[0;32m    433\u001b[0m             \u001b[39m\"\u001b[39m\u001b[39mPDE1_Cam_Ca4\u001b[39m\u001b[39m\"\u001b[39m, \n\u001b[0;32m    434\u001b[0m             \u001b[39m\"\u001b[39m\u001b[39mPDE1_Cam_Ca4_cAMP\u001b[39m\u001b[39m\"\u001b[39m, \n\u001b[0;32m    435\u001b[0m             \u001b[39m\"\u001b[39m\u001b[39mPP2A_BPR72\u001b[39m\u001b[39m\"\u001b[39m, \n\u001b[0;32m    436\u001b[0m             \u001b[39m\"\u001b[39m\u001b[39mPP2A_Ca\u001b[39m\u001b[39m\"\u001b[39m, \n\u001b[0;32m    437\u001b[0m             \u001b[39m\"\u001b[39m\u001b[39mpPDE4_PP2A_Ca\u001b[39m\u001b[39m\"\u001b[39m, \n\u001b[0;32m    438\u001b[0m             \u001b[39m\"\u001b[39m\u001b[39mpPDE4_PP2A\u001b[39m\u001b[39m\"\u001b[39m, \n\u001b[0;32m    439\u001b[0m             \u001b[39m\"\u001b[39m\u001b[39mpPDE10_PP2A_Ca\u001b[39m\u001b[39m\"\u001b[39m, \n\u001b[0;32m    440\u001b[0m             \u001b[39m\"\u001b[39m\u001b[39mpPDE10_PP2A\u001b[39m\u001b[39m\"\u001b[39m, \n\u001b[0;32m    441\u001b[0m             \u001b[39m\"\u001b[39m\u001b[39mPDE2\u001b[39m\u001b[39m\"\u001b[39m, \n\u001b[0;32m    442\u001b[0m             \u001b[39m\"\u001b[39m\u001b[39mPDE2_cAMP\u001b[39m\u001b[39m\"\u001b[39m, \n\u001b[0;32m    443\u001b[0m             \u001b[39m\"\u001b[39m\u001b[39mPDE2_cAMP2\u001b[39m\u001b[39m\"\u001b[39m, \n\u001b[0;32m    444\u001b[0m             \u001b[39m\"\u001b[39m\u001b[39mCam\u001b[39m\u001b[39m\"\u001b[39m, \n\u001b[0;32m    445\u001b[0m             \u001b[39m\"\u001b[39m\u001b[39mCamC_Ca2\u001b[39m\u001b[39m\"\u001b[39m, \n\u001b[0;32m    446\u001b[0m             \u001b[39m\"\u001b[39m\u001b[39mCamN_Ca2\u001b[39m\u001b[39m\"\u001b[39m, \n\u001b[0;32m    447\u001b[0m             \u001b[39m\"\u001b[39m\u001b[39mPP2A_B56d\u001b[39m\u001b[39m\"\u001b[39m, \n\u001b[0;32m    448\u001b[0m             \u001b[39m\"\u001b[39m\u001b[39mPKAc_PP2A_B56d\u001b[39m\u001b[39m\"\u001b[39m, \n\u001b[0;32m    449\u001b[0m             \u001b[39m\"\u001b[39m\u001b[39mpPP2A\u001b[39m\u001b[39m\"\u001b[39m, \n\u001b[0;32m    450\u001b[0m             \u001b[39m\"\u001b[39m\u001b[39mEpac1\u001b[39m\u001b[39m\"\u001b[39m, \n\u001b[0;32m    451\u001b[0m             \u001b[39m\"\u001b[39m\u001b[39mEpac1_cAMP\u001b[39m\u001b[39m\"\u001b[39m, \n\u001b[0;32m    452\u001b[0m             \u001b[39m\"\u001b[39m\u001b[39mPP2B\u001b[39m\u001b[39m\"\u001b[39m, \n\u001b[0;32m    453\u001b[0m             \u001b[39m\"\u001b[39m\u001b[39mPP2B_Cam\u001b[39m\u001b[39m\"\u001b[39m, \n\u001b[0;32m    454\u001b[0m             \u001b[39m\"\u001b[39m\u001b[39mPP2B_CamC_Ca2\u001b[39m\u001b[39m\"\u001b[39m, \n\u001b[0;32m    455\u001b[0m             \u001b[39m\"\u001b[39m\u001b[39mPP2B_CamN_Ca2\u001b[39m\u001b[39m\"\u001b[39m, \n\u001b[0;32m    456\u001b[0m             \u001b[39m\"\u001b[39m\u001b[39mPP2B_Cam_Ca4\u001b[39m\u001b[39m\"\u001b[39m, \n\u001b[0;32m    457\u001b[0m             \u001b[39m\"\u001b[39m\u001b[39mCK\u001b[39m\u001b[39m\"\u001b[39m, \n\u001b[0;32m    458\u001b[0m             \u001b[39m\"\u001b[39m\u001b[39mpCK_PP1\u001b[39m\u001b[39m\"\u001b[39m, \n\u001b[0;32m    459\u001b[0m             \u001b[39m\"\u001b[39m\u001b[39mpCK_Cam_Ca4_PP1\u001b[39m\u001b[39m\"\u001b[39m, \n\u001b[0;32m    460\u001b[0m             \u001b[39m\"\u001b[39m\u001b[39mAC1\u001b[39m\u001b[39m\"\u001b[39m, \n\u001b[0;32m    461\u001b[0m             \u001b[39m\"\u001b[39m\u001b[39mAC1_GsaGTP\u001b[39m\u001b[39m\"\u001b[39m, \n\u001b[0;32m    462\u001b[0m             \u001b[39m\"\u001b[39m\u001b[39mAC1_Cam_Ca4\u001b[39m\u001b[39m\"\u001b[39m, \n\u001b[0;32m    463\u001b[0m             \u001b[39m\"\u001b[39m\u001b[39mAC1_GsaGTP_Cam_Ca4\u001b[39m\u001b[39m\"\u001b[39m, \n\u001b[0;32m    464\u001b[0m             \u001b[39m\"\u001b[39m\u001b[39mAC1_Cam_Ca4_ATP\u001b[39m\u001b[39m\"\u001b[39m, \n\u001b[0;32m    465\u001b[0m             \u001b[39m\"\u001b[39m\u001b[39mAC1_GsaGTP_Cam_ATP\u001b[39m\u001b[39m\"\u001b[39m, \n\u001b[0;32m    466\u001b[0m             \u001b[39m\"\u001b[39m\u001b[39mD32\u001b[39m\u001b[39m\"\u001b[39m, \n\u001b[0;32m    467\u001b[0m             \u001b[39m\"\u001b[39m\u001b[39mD32_PKAc\u001b[39m\u001b[39m\"\u001b[39m, \n\u001b[0;32m    468\u001b[0m             \u001b[39m\"\u001b[39m\u001b[39mD32_p34\u001b[39m\u001b[39m\"\u001b[39m, \n\u001b[0;32m    469\u001b[0m             \u001b[39m\"\u001b[39m\u001b[39mD32_p34_PP1\u001b[39m\u001b[39m\"\u001b[39m, \n\u001b[0;32m    470\u001b[0m             \u001b[39m\"\u001b[39m\u001b[39mD32_p34_PP2B_Cam_Ca4\u001b[39m\u001b[39m\"\u001b[39m, \n\u001b[0;32m    471\u001b[0m             \u001b[39m\"\u001b[39m\u001b[39mD32_p34_PP1_PP2B_Cam_Ca4\u001b[39m\u001b[39m\"\u001b[39m, \n\u001b[0;32m    472\u001b[0m             \u001b[39m\"\u001b[39m\u001b[39mD32_p34_PP2A_B56d\u001b[39m\u001b[39m\"\u001b[39m, \n\u001b[0;32m    473\u001b[0m             \u001b[39m\"\u001b[39m\u001b[39mD32_p34_PP2A_BPR72\u001b[39m\u001b[39m\"\u001b[39m, \n\u001b[0;32m    474\u001b[0m             \u001b[39m\"\u001b[39m\u001b[39mD32_p34_PP1_PP2A_B56d\u001b[39m\u001b[39m\"\u001b[39m, \n\u001b[0;32m    475\u001b[0m             \u001b[39m\"\u001b[39m\u001b[39mD32_p34_PP1_PP2A_BPR72\u001b[39m\u001b[39m\"\u001b[39m, \n\u001b[0;32m    476\u001b[0m             \u001b[39m\"\u001b[39m\u001b[39mD32_p75\u001b[39m\u001b[39m\"\u001b[39m, \n\u001b[0;32m    477\u001b[0m             \u001b[39m\"\u001b[39m\u001b[39mCDK5\u001b[39m\u001b[39m\"\u001b[39m, \n\u001b[0;32m    478\u001b[0m             \u001b[39m\"\u001b[39m\u001b[39mD32_CDK5\u001b[39m\u001b[39m\"\u001b[39m, \n\u001b[0;32m    479\u001b[0m             \u001b[39m\"\u001b[39m\u001b[39mD32_p75_PP2A_BPR72\u001b[39m\u001b[39m\"\u001b[39m, \n\u001b[0;32m    480\u001b[0m             \u001b[39m\"\u001b[39m\u001b[39mD32_p75_PP2A_B56d\u001b[39m\u001b[39m\"\u001b[39m, \n\u001b[0;32m    481\u001b[0m             \u001b[39m\"\u001b[39m\u001b[39mD32_p75_pPP2A\u001b[39m\u001b[39m\"\u001b[39m, \n\u001b[0;32m    482\u001b[0m             \u001b[39m\"\u001b[39m\u001b[39mD32_p75_PP2A_Ca\u001b[39m\u001b[39m\"\u001b[39m, \n\u001b[0;32m    483\u001b[0m             \u001b[39m\"\u001b[39m\u001b[39mD32_p75_PKAc\u001b[39m\u001b[39m\"\u001b[39m, \n\u001b[0;32m    484\u001b[0m             \u001b[39m\"\u001b[39m\u001b[39mPKA\u001b[39m\u001b[39m\"\u001b[39m, \n\u001b[0;32m    485\u001b[0m             \u001b[39m\"\u001b[39m\u001b[39mPKA_cAMP2\u001b[39m\u001b[39m\"\u001b[39m, \n\u001b[0;32m    486\u001b[0m             \u001b[39m\"\u001b[39m\u001b[39mPKA_cAMP4\u001b[39m\u001b[39m\"\u001b[39m, \n\u001b[0;32m    487\u001b[0m             \u001b[39m\"\u001b[39m\u001b[39mAIP\u001b[39m\u001b[39m\"\u001b[39m, \n\u001b[0;32m    488\u001b[0m             \u001b[39m\"\u001b[39m\u001b[39mCK_Cam_Ca4_AIP\u001b[39m\u001b[39m\"\u001b[39m, \n\u001b[0;32m    489\u001b[0m             \u001b[39m\"\u001b[39m\u001b[39mOA\u001b[39m\u001b[39m\"\u001b[39m, \n\u001b[0;32m    490\u001b[0m             \u001b[39m\"\u001b[39m\u001b[39mOA_PP2A_B56d\u001b[39m\u001b[39m\"\u001b[39m, \n\u001b[0;32m    491\u001b[0m             \u001b[39m\"\u001b[39m\u001b[39mOA_PP2A_BPR72\u001b[39m\u001b[39m\"\u001b[39m, \n\u001b[0;32m    492\u001b[0m             \u001b[39m\"\u001b[39m\u001b[39mOA_PP2A_Ca\u001b[39m\u001b[39m\"\u001b[39m, \n\u001b[0;32m    493\u001b[0m             \u001b[39m\"\u001b[39m\u001b[39mOA_pPP2A\u001b[39m\u001b[39m\"\u001b[39m, \n\u001b[0;32m    494\u001b[0m             \u001b[39m\"\u001b[39m\u001b[39mTelenz_M1R\u001b[39m\u001b[39m\"\u001b[39m, \n\u001b[0;32m    495\u001b[0m             \u001b[39m\"\u001b[39m\u001b[39mTelenz\u001b[39m\u001b[39m\"\u001b[39m, \n\u001b[0;32m    496\u001b[0m             \u001b[39m\"\u001b[39m\u001b[39mTelenz_m1R_Gq\u001b[39m\u001b[39m\"\u001b[39m, \n\u001b[0;32m    497\u001b[0m             \u001b[39m\"\u001b[39m\u001b[39mPD102840\u001b[39m\u001b[39m\"\u001b[39m, \n\u001b[0;32m    498\u001b[0m             \u001b[39m\"\u001b[39m\u001b[39mPD_M4R\u001b[39m\u001b[39m\"\u001b[39m, \n\u001b[0;32m    499\u001b[0m             \u001b[39m\"\u001b[39m\u001b[39mPD_M4R_Giabg\u001b[39m\u001b[39m\"\u001b[39m, \n\u001b[0;32m    500\u001b[0m             \u001b[39m\"\u001b[39m\u001b[39mOA_PP1\u001b[39m\u001b[39m\"\u001b[39m, \n\u001b[0;32m    501\u001b[0m             \u001b[39m\"\u001b[39m\u001b[39mAKAR3\u001b[39m\u001b[39m\"\u001b[39m, \n\u001b[0;32m    502\u001b[0m             \u001b[39m\"\u001b[39m\u001b[39mPKAc_AKAR3\u001b[39m\u001b[39m\"\u001b[39m, \n\u001b[0;32m    503\u001b[0m             \u001b[39m\"\u001b[39m\u001b[39mpAKAR3\u001b[39m\u001b[39m\"\u001b[39m, \n\u001b[0;32m    504\u001b[0m             \u001b[39m\"\u001b[39m\u001b[39mPP1_pAKAR3\u001b[39m\u001b[39m\"\u001b[39m, \n\u001b[0;32m    505\u001b[0m             \u001b[39m\"\u001b[39m\u001b[39mPKAr\u001b[39m\u001b[39m\"\u001b[39m, \n\u001b[0;32m    506\u001b[0m             \u001b[39m\"\u001b[39m\u001b[39mpD1R_Gsabg\u001b[39m\u001b[39m\"\u001b[39m, \n\u001b[0;32m    507\u001b[0m             \u001b[39m\"\u001b[39m\u001b[39mtotal_Cam\u001b[39m\u001b[39m\"\u001b[39m, \n\u001b[0;32m    508\u001b[0m             \u001b[39m\"\u001b[39m\u001b[39mtotal_D1R\u001b[39m\u001b[39m\"\u001b[39m, \n\u001b[0;32m    509\u001b[0m             \u001b[39m\"\u001b[39m\u001b[39mtotal_PP2B\u001b[39m\u001b[39m\"\u001b[39m, \n\u001b[0;32m    510\u001b[0m             \u001b[39m\"\u001b[39m\u001b[39mtotal_PDE1\u001b[39m\u001b[39m\"\u001b[39m, \n\u001b[0;32m    511\u001b[0m             \u001b[39m\"\u001b[39m\u001b[39mtotal_PDE4\u001b[39m\u001b[39m\"\u001b[39m, \n\u001b[0;32m    512\u001b[0m             \u001b[39m\"\u001b[39m\u001b[39mtotal_PDE2\u001b[39m\u001b[39m\"\u001b[39m, \n\u001b[0;32m    513\u001b[0m             \u001b[39m\"\u001b[39m\u001b[39mtotal_PP1\u001b[39m\u001b[39m\"\u001b[39m, \n\u001b[0;32m    514\u001b[0m             \u001b[39m\"\u001b[39m\u001b[39mtotal_D32\u001b[39m\u001b[39m\"\u001b[39m, \n\u001b[0;32m    515\u001b[0m             \u001b[39m\"\u001b[39m\u001b[39mtotal_PP2A\u001b[39m\u001b[39m\"\u001b[39m, \n\u001b[0;32m    516\u001b[0m             \u001b[39m\"\u001b[39m\u001b[39mtotal_PKC\u001b[39m\u001b[39m\"\u001b[39m, \n\u001b[0;32m    517\u001b[0m             \u001b[39m\"\u001b[39m\u001b[39mtotal_PKA\u001b[39m\u001b[39m\"\u001b[39m, \n\u001b[0;32m    518\u001b[0m             \u001b[39m\"\u001b[39m\u001b[39mtotal_M4R\u001b[39m\u001b[39m\"\u001b[39m, \n\u001b[0;32m    519\u001b[0m             \u001b[39m\"\u001b[39m\u001b[39mtotal_M1R\u001b[39m\u001b[39m\"\u001b[39m, \n\u001b[0;32m    520\u001b[0m             \u001b[39m\"\u001b[39m\u001b[39mTotal_AC5\u001b[39m\u001b[39m\"\u001b[39m, \n\u001b[0;32m    521\u001b[0m             \u001b[39m\"\u001b[39m\u001b[39mTotal_mGluR\u001b[39m\u001b[39m\"\u001b[39m, \n\u001b[0;32m    522\u001b[0m             \u001b[39m\"\u001b[39m\u001b[39mTotal_PDE10\u001b[39m\u001b[39m\"\u001b[39m, \n\u001b[0;32m    523\u001b[0m             \u001b[39m\"\u001b[39m\u001b[39mTotal_DagL\u001b[39m\u001b[39m\"\u001b[39m, \n\u001b[0;32m    524\u001b[0m             \u001b[39m\"\u001b[39m\u001b[39mtotal_DagK\u001b[39m\u001b[39m\"\u001b[39m, \n\u001b[0;32m    525\u001b[0m             \u001b[39m\"\u001b[39m\u001b[39mtotal_PIKinase\u001b[39m\u001b[39m\"\u001b[39m, \n\u001b[0;32m    526\u001b[0m             \u001b[39m\"\u001b[39m\u001b[39mtotal_Pip2\u001b[39m\u001b[39m\"\u001b[39m, \n\u001b[0;32m    527\u001b[0m             \u001b[39m\"\u001b[39m\u001b[39mTotal_Gq\u001b[39m\u001b[39m\"\u001b[39m, \n\u001b[0;32m    528\u001b[0m             \u001b[39m\"\u001b[39m\u001b[39mTotal_Gs\u001b[39m\u001b[39m\"\u001b[39m, \n\u001b[0;32m    529\u001b[0m             \u001b[39m\"\u001b[39m\u001b[39mTotal_Gi\u001b[39m\u001b[39m\"\u001b[39m, \n\u001b[0;32m    530\u001b[0m             \u001b[39m\"\u001b[39m\u001b[39mTotal_Plc\u001b[39m\u001b[39m\"\u001b[39m, \n\u001b[0;32m    531\u001b[0m             \u001b[39m\"\u001b[39m\u001b[39mTotal_CK\u001b[39m\u001b[39m\"\u001b[39m, \n\u001b[0;32m    532\u001b[0m             \u001b[39m\"\u001b[39m\u001b[39mTotal_Epac1\u001b[39m\u001b[39m\"\u001b[39m, \n\u001b[0;32m    533\u001b[0m             \u001b[39m\"\u001b[39m\u001b[39mTotal_AC1\u001b[39m\u001b[39m\"\u001b[39m, \n\u001b[0;32m    534\u001b[0m             \u001b[39m\"\u001b[39m\u001b[39mCa_pDagL_Dag\u001b[39m\u001b[39m\"\u001b[39m, \n\u001b[0;32m    535\u001b[0m             \u001b[39m\"\u001b[39m\u001b[39mGbg\u001b[39m\u001b[39m\"\u001b[39m, \n\u001b[0;32m    536\u001b[0m             \u001b[39m\"\u001b[39m\u001b[39met\u001b[39m\u001b[39m\"\u001b[39m, \n\u001b[0;32m    537\u001b[0m             \u001b[39m\"\u001b[39m\u001b[39mr\u001b[39m\u001b[39m\"\u001b[39m, \n\u001b[0;32m    538\u001b[0m             \u001b[39m\"\u001b[39m\u001b[39ms\u001b[39m\u001b[39m\"\u001b[39m\n\u001b[0;32m    539\u001b[0m         ],\n\u001b[0;32m    540\u001b[0m         \u001b[39m*\u001b[39margs, \u001b[39m*\u001b[39m\u001b[39m*\u001b[39mkwargs\n\u001b[0;32m    541\u001b[0m     )\n",
      "File \u001b[1;32mc:\\Users\\timothy.sego\\Desktop\\Current\\stochastic_repro\\source\\stochastic_models.py:49\u001b[0m, in \u001b[0;36mOnlineSBMLModel.__init__\u001b[1;34m(self, uri, *args, **kwargs)\u001b[0m\n\u001b[0;32m     47\u001b[0m \u001b[39mdef\u001b[39;00m \u001b[39m__init__\u001b[39m(\u001b[39mself\u001b[39m, uri: \u001b[39mstr\u001b[39m, \u001b[39m*\u001b[39margs, \u001b[39m*\u001b[39m\u001b[39m*\u001b[39mkwargs) \u001b[39m-\u001b[39m\u001b[39m>\u001b[39m \u001b[39mNone\u001b[39;00m:\n\u001b[1;32m---> 49\u001b[0m     \u001b[39msuper\u001b[39m()\u001b[39m.\u001b[39m\u001b[39m__init__\u001b[39m(RoadRunner(uri)\u001b[39m.\u001b[39mgetCurrentSBML(), \u001b[39m*\u001b[39margs, \u001b[39m*\u001b[39m\u001b[39m*\u001b[39mkwargs)\n",
      "File \u001b[1;32mc:\\Users\\timothy.sego\\AppData\\Local\\miniconda3\\envs\\stoch_repro\\lib\\site-packages\\roadrunner\\roadrunner.py:4486\u001b[0m, in \u001b[0;36mRoadRunner._new_init\u001b[1;34m(self, *args)\u001b[0m\n\u001b[0;32m   4484\u001b[0m \u001b[39mexcept\u001b[39;00m:\n\u001b[0;32m   4485\u001b[0m     \u001b[39mpass\u001b[39;00m\n\u001b[1;32m-> 4486\u001b[0m RoadRunner\u001b[39m.\u001b[39;49m_swig_init(\u001b[39mself\u001b[39;49m, sbml)\n\u001b[0;32m   4487\u001b[0m RoadRunner\u001b[39m.\u001b[39m_makeProperties(\u001b[39mself\u001b[39m)\n\u001b[0;32m   4488\u001b[0m \u001b[39mreturn\u001b[39;00m\n",
      "File \u001b[1;32mc:\\Users\\timothy.sego\\AppData\\Local\\miniconda3\\envs\\stoch_repro\\lib\\site-packages\\roadrunner\\roadrunner.py:2700\u001b[0m, in \u001b[0;36mRoadRunner.__init__\u001b[1;34m(self, *args)\u001b[0m\n\u001b[0;32m   2672\u001b[0m \u001b[39mdef\u001b[39;00m \u001b[39m__init__\u001b[39m(\u001b[39mself\u001b[39m, \u001b[39m*\u001b[39margs):\n\u001b[0;32m   2673\u001b[0m \u001b[39m    \u001b[39m\u001b[39mr\u001b[39m\u001b[39m\"\"\"\u001b[39;00m\n\u001b[0;32m   2674\u001b[0m \u001b[39m    *Overload 1:*\u001b[39;00m\n\u001b[0;32m   2675\u001b[0m \n\u001b[1;32m   (...)\u001b[0m\n\u001b[0;32m   2698\u001b[0m \u001b[39m    RoadRunner copy constructor\u001b[39;00m\n\u001b[0;32m   2699\u001b[0m \u001b[39m    \"\"\"\u001b[39;00m\n\u001b[1;32m-> 2700\u001b[0m     _roadrunner\u001b[39m.\u001b[39mRoadRunner_swiginit(\u001b[39mself\u001b[39m, _roadrunner\u001b[39m.\u001b[39;49mnew_RoadRunner(\u001b[39m*\u001b[39;49margs))\n",
      "\u001b[1;31mRuntimeError\u001b[0m: the symbol 'kf_Pip2 xPlcCa' is not physically stored in the ModelData structure, it either does not exists or is defined by an assigment rule (hence it is not a terminal symbol), at ?loadSymbolValue@ModelDataLoadSymbolResolver@rrllvm@@UEAAPEAVValue@llvm@@AEBV?$basic_string@DU?$char_traits@D@std@@V?$allocator@D@2@@std@@AEBV?$ArrayRef@PEAVValue@llvm@@@4@@Z"
     ]
    }
   ],
   "source": [
    "import sys\n",
    "import ipywidgets as ipw\n",
    "from IPython.display import display\n",
    "\n",
    "sys.path.append('/Users/timothy.sego/Desktop/Current/stochastic_repro')\n",
    "\n",
    "from stochastic_models import biomodels_2006170003\n",
    "from stochastic_tests import Test\n",
    "\n",
    "t_fin = 300.0\n",
    "num_steps = 1000\n",
    "\n",
    "test = Test(model=biomodels_2006170003(),\n",
    "            t_fin=t_fin,\n",
    "            num_steps=num_steps,\n",
    "            sample_times=[t_fin / num_steps * i for i in range(1, num_steps + 1)],\n",
    "            trials=[10, 50, 100, 500, 1000, 5000, 10000],\n",
    "            stochastic=True)"
   ]
  },
  {
   "cell_type": "code",
   "execution_count": null,
   "id": "ea1856e2",
   "metadata": {
    "scrolled": true
   },
   "outputs": [],
   "source": [
    "test.execute_deterministic()\n",
    "# _ = test.plot_results_deterministic()  # Too many variables"
   ]
  },
  {
   "cell_type": "markdown",
   "id": "9edcb774",
   "metadata": {},
   "source": [
    "Stochastic simulation results can be treated as a distribution with statistical properties such as mean and standard deviation. Distributions should become smooth with increasing number of trials. "
   ]
  },
  {
   "cell_type": "code",
   "execution_count": null,
   "id": "781669d6",
   "metadata": {
    "scrolled": false
   },
   "outputs": [
    {
     "data": {
      "application/vnd.jupyter.widget-view+json": {
       "model_id": "56f84892419b4675a36cad9e8869599a",
       "version_major": 2,
       "version_minor": 0
      },
      "text/plain": [
       "Output()"
      ]
     },
     "metadata": {},
     "output_type": "display_data"
    }
   ],
   "source": [
    "label, out = ipw.Label(), ipw.Output()\n",
    "display(out)\n",
    "with out:\n",
    "    display(label)\n",
    "\n",
    "test.execute_stochastic(label)\n",
    "_ = out.clear_output()"
   ]
  },
  {
   "cell_type": "code",
   "execution_count": null,
   "id": "a1d97b55",
   "metadata": {},
   "outputs": [],
   "source": [
    "# _ = test.plot_results_stochastic(False)  # Too many variables"
   ]
  },
  {
   "cell_type": "code",
   "execution_count": null,
   "id": "33577125",
   "metadata": {},
   "outputs": [],
   "source": [
    "# _ = test.plot_stats()"
   ]
  },
  {
   "cell_type": "markdown",
   "id": "de85156d",
   "metadata": {},
   "source": [
    "If we bin replicate results at each sample time, we should find that the probability distribution function of a variable at each time point converges with increasing number of replicates. "
   ]
  },
  {
   "cell_type": "code",
   "execution_count": null,
   "id": "68acffd0",
   "metadata": {},
   "outputs": [],
   "source": [
    "# _ = test.plot_distributions()  # Too many variables"
   ]
  },
  {
   "cell_type": "markdown",
   "id": "d0c492c2",
   "metadata": {},
   "source": [
    "Results distributions should converge as the number of trials increases. At any sampled simulation time, convergence appears as a distribution that converges with increasing number of trials. Convergence can be quantified by measuring the change in distribution for an increase in number of trials. We should find that the change in distribution goes to zero everywhere as the number of trials increases. "
   ]
  },
  {
   "cell_type": "code",
   "execution_count": null,
   "id": "45ee9008",
   "metadata": {},
   "outputs": [],
   "source": [
    "test.measure_ecfs()\n",
    "test.measure_ecf_diffs()\n",
    "# test.plot_ecf()  # Too many variables\n",
    "# test.plot_ecf_diffs()  # Too many variables\n",
    "# _ = test.plot_ecf_comparison()  # Too many variables"
   ]
  },
  {
   "cell_type": "code",
   "execution_count": null,
   "metadata": {},
   "outputs": [
    {
     "name": "stderr",
     "output_type": "stream",
     "text": [
      "c:\\Users\\timothy.sego\\AppData\\Local\\miniconda3\\envs\\stoch_repro\\lib\\site-packages\\scipy\\optimize\\_minpack_py.py:1010: OptimizeWarning: Covariance of the parameters could not be estimated\n",
      "  warnings.warn('Covariance of the parameters could not be estimated',\n"
     ]
    }
   ],
   "source": [
    "test.generate_ecf_diff_fits()"
   ]
  },
  {
   "cell_type": "code",
   "execution_count": null,
   "metadata": {},
   "outputs": [],
   "source": [
    "# _, axs = test.plot_ecf_diff_fits(test.plot_ecf_diffs())  # Too many variables\n",
    "# _ = axs[0].legend()  # Too many variables"
   ]
  },
  {
   "cell_type": "code",
   "execution_count": null,
   "metadata": {},
   "outputs": [
    {
     "data": {
      "application/vnd.jupyter.widget-view+json": {
       "model_id": "2dee9c31268648679203a0823346c7b5",
       "version_major": 2,
       "version_minor": 0
      },
      "text/plain": [
       "Output()"
      ]
     },
     "metadata": {},
     "output_type": "display_data"
    }
   ],
   "source": [
    "out = ipw.Output()\n",
    "display(out)\n",
    "\n",
    "for var_name in test.model.results_names:\n",
    "    with out:\n",
    "        print('Variable:', var_name)\n",
    "    for trial, name_data in test.ecf_diff.items():\n",
    "        with out:\n",
    "            print(f'\\tTrials {trial} ; K-S stat: {name_data[var_name]}')"
   ]
  }
 ],
 "metadata": {
  "kernelspec": {
   "display_name": "Python 3",
   "language": "python",
   "name": "python3"
  },
  "language_info": {
   "codemirror_mode": {
    "name": "ipython",
    "version": 3
   },
   "file_extension": ".py",
   "mimetype": "text/x-python",
   "name": "python",
   "nbconvert_exporter": "python",
   "pygments_lexer": "ipython3",
   "version": "3.10.13"
  }
 },
 "nbformat": 4,
 "nbformat_minor": 5
}
