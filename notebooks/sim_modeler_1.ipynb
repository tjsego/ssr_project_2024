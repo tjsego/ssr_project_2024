{
 "cells": [
  {
   "cell_type": "markdown",
   "metadata": {},
   "source": [
    "Simulates what a modeler would do when following the proposed pipeline"
   ]
  },
  {
   "cell_type": "code",
   "execution_count": 1,
   "metadata": {
    "execution": {
     "iopub.execute_input": "2024-06-13T14:28:01.589026Z",
     "iopub.status.busy": "2024-06-13T14:28:01.588918Z",
     "iopub.status.idle": "2024-06-13T14:28:01.835895Z",
     "shell.execute_reply": "2024-06-13T14:28:01.835453Z"
    }
   },
   "outputs": [],
   "source": [
    "import numpy as np\n",
    "import os\n",
    "import json\n",
    "from IPython.display import display, clear_output\n",
    "import ipywidgets as ipw\n",
    "\n",
    "import sim_lib\n",
    "\n",
    "res_dir = os.path.join('results', 'workflow_sim_1')"
   ]
  },
  {
   "cell_type": "code",
   "execution_count": 2,
   "metadata": {
    "execution": {
     "iopub.execute_input": "2024-06-13T14:28:01.838253Z",
     "iopub.status.busy": "2024-06-13T14:28:01.838112Z",
     "iopub.status.idle": "2024-06-13T14:28:01.843271Z",
     "shell.execute_reply": "2024-06-13T14:28:01.842970Z"
    }
   },
   "outputs": [],
   "source": [
    "model_string_antimony = \"\"\"\n",
    "species S, I, R, V;\n",
    "\n",
    "S -> I ; beta * S * V;\n",
    "I -> R ; delta * I;\n",
    "-> V  ; p * I - k * V;\n",
    "\n",
    "S = 1E6;\n",
    "I = 0.0;\n",
    "R = 0.0;\n",
    "V = 2.0;\n",
    "\n",
    "beta = 2.0E-6;\n",
    "k = 4.0;\n",
    "delta = 1E0;\n",
    "p = 25.0;\n",
    "\"\"\"\n",
    "var_names = ['S', 'I', 'R', 'V']\n",
    "err_thresh = 0.075\n",
    "stochastic = False\n",
    "t_fin = 10.0\n",
    "num_steps = 101\n",
    "num_samples_incr = 100\n",
    "param_dist = {'beta': ('norm', (2.0E-6, 0.2E-6))}\n",
    "\n",
    "model_string_sbml = sim_lib.antimony_to_sbml(model_string_antimony)"
   ]
  },
  {
   "cell_type": "markdown",
   "metadata": {},
   "source": [
    "Definitions for collecting results"
   ]
  },
  {
   "cell_type": "code",
   "execution_count": 3,
   "metadata": {
    "execution": {
     "iopub.execute_input": "2024-06-13T14:28:01.844735Z",
     "iopub.status.busy": "2024-06-13T14:28:01.844564Z",
     "iopub.status.idle": "2024-06-13T14:28:01.913614Z",
     "shell.execute_reply": "2024-06-13T14:28:01.913023Z"
    }
   },
   "outputs": [],
   "source": [
    "def extend_arrs(_arr: np.ndarray, _num_extend: int):\n",
    "    if _num_extend <= 0:\n",
    "        raise ValueError\n",
    "\n",
    "    result = np.zeros((_arr.shape[0] + _num_extend, _arr.shape[1]), dtype=float)\n",
    "    result[:_arr.shape[0], :] = _arr\n",
    "    return result\n",
    "\n",
    "\n",
    "def extract_rr_time(_res):\n",
    "    return _res[:, _res.colnames.index('time')]\n",
    "\n",
    "\n",
    "def extract_rr_results(_res, _var_name: str):\n",
    "    return _res[:, _res.colnames.index(f'[{_var_name}]')]\n",
    "\n",
    "\n",
    "sim_lib.start_pool()"
   ]
  },
  {
   "cell_type": "markdown",
   "metadata": {},
   "source": [
    "The simulation"
   ]
  },
  {
   "cell_type": "code",
   "execution_count": 4,
   "metadata": {
    "execution": {
     "iopub.execute_input": "2024-06-13T14:28:01.915926Z",
     "iopub.status.busy": "2024-06-13T14:28:01.915795Z",
     "iopub.status.idle": "2024-06-13T14:28:01.921529Z",
     "shell.execute_reply": "2024-06-13T14:28:01.921269Z"
    }
   },
   "outputs": [
    {
     "data": {
      "application/vnd.jupyter.widget-view+json": {
       "model_id": "37b0e6f066ab4bbd91076b1abedf65f0",
       "version_major": 2,
       "version_minor": 0
      },
      "text/plain": [
       "Output()"
      ]
     },
     "metadata": {},
     "output_type": "display_data"
    },
    {
     "data": {
      "application/vnd.jupyter.widget-view+json": {
       "model_id": "6acdbe48a44747929ba99648a4219c49",
       "version_major": 2,
       "version_minor": 0
      },
      "text/plain": [
       "Output()"
      ]
     },
     "metadata": {},
     "output_type": "display_data"
    }
   ],
   "source": [
    "out = ipw.Output()\n",
    "display(out)\n",
    "subout = ipw.Output()\n",
    "display(subout)"
   ]
  },
  {
   "cell_type": "code",
   "execution_count": 5,
   "metadata": {
    "execution": {
     "iopub.execute_input": "2024-06-13T14:28:01.939212Z",
     "iopub.status.busy": "2024-06-13T14:28:01.939081Z",
     "iopub.status.idle": "2024-06-13T17:54:12.382506Z",
     "shell.execute_reply": "2024-06-13T17:54:12.382153Z"
    }
   },
   "outputs": [],
   "source": [
    "# Runtime: ~13 minutes (M1 max, can vary a lot)\n",
    "\n",
    "sampling_err_thresh = 0.001\n",
    "sample_times = np.array([t_fin / num_steps * i for i in range(0, num_steps + 1)], dtype=float)\n",
    "\n",
    "num_times = len(sample_times)\n",
    "results = {name: np.zeros((num_samples_incr, num_steps), dtype=float) for name in var_names}\n",
    "\n",
    "stat_hist = []\n",
    "err_hist = []\n",
    "iter_current = 0\n",
    "err_current = min(1, err_thresh + 1)\n",
    "ecf_eval_info = []\n",
    "ks_stats_samp = []\n",
    "idx_current = 0\n",
    "rr = sim_lib.make_rr(model_string_sbml, stochastic)\n",
    "\n",
    "results_times = extract_rr_time(sim_lib.exec_rr(rr, t_fin, num_steps, stochastic))\n",
    "rr.resetAll()\n",
    "\n",
    "while err_current >= err_thresh:\n",
    "\n",
    "    with out:\n",
    "        clear_output()\n",
    "\n",
    "    if iter_current > 0:\n",
    "        out.append_stdout(f'Iteration {iter_current} ({idx_current}): {stat_hist[-1][1]}, {stat_hist[-1][2]} ({err_thresh})\\n')\n",
    "    else:\n",
    "        out.append_stdout(f'Iteration {iter_current} ({idx_current}): ({err_thresh})\\n')\n",
    "\n",
    "    num_samples_incr_curr = num_samples_incr\n",
    "\n",
    "    if iter_current > 2:\n",
    "        # Try to jump ahead\n",
    "        x_data = []\n",
    "        y_data = []\n",
    "        for el in stat_hist:\n",
    "            x_data.append(el[0])\n",
    "            y_data.append(el[1] + 3 * el[2])\n",
    "        fit_num_samples = int(sim_lib.recommend(x_data, y_data, err_thresh))\n",
    "        fit_num_samples += fit_num_samples % 2\n",
    "        if fit_num_samples < idx_current:\n",
    "            num_samples_incr_curr = num_samples_incr\n",
    "        else:\n",
    "            num_samples_incr_curr = fit_num_samples - idx_current\n",
    "            out.append_stdout(f'Recommended sample size: {num_samples_incr_curr}\\n')\n",
    "            \n",
    "            # Limit, in case we get something crazy from a poor fit\n",
    "            num_samples_incr_curr = max(min(num_samples_incr_curr, 5000), num_samples_incr)\n",
    "            \n",
    "            out.append_stdout(f'Jumping ahead with fitted sample size increment: {num_samples_incr_curr}\\n')\n",
    "\n",
    "    if iter_current > 0:\n",
    "        # Extend data storage\n",
    "        for name in var_names:\n",
    "            results[name] = extend_arrs(results[name], num_samples_incr_curr)\n",
    "\n",
    "    out.append_stdout(f'Working {num_samples_incr_curr} jobs\\n')\n",
    "    idx_received = 0\n",
    "    for res in sim_lib.exec_rr_batch(num_samples_incr_curr, rr, t_fin, num_steps, stochastic, dists=param_dist, out=subout):\n",
    "        for name in var_names:\n",
    "            results[name][idx_current+idx_received, :] = extract_rr_results(res, name)\n",
    "        idx_received += 1\n",
    "    with subout:\n",
    "        clear_output()\n",
    "    if idx_received != num_samples_incr_curr:\n",
    "        out.append_stderr(f'Received {idx_received} results, though {num_samples_incr_curr} were requested.\\n')\n",
    "    else:\n",
    "        out.append_stdout('All results received.\\n')\n",
    "    idx_current += idx_received\n",
    "    \n",
    "    out.append_stdout('Testing sampling\\n')\n",
    "\n",
    "    ks_stats_samp = sim_lib.test_sampling(results, err_thresh=sampling_err_thresh, out=subout)[0]\n",
    "    with subout:\n",
    "        clear_output()\n",
    "    stat_hist.append((idx_current, np.average(ks_stats_samp), np.std(ks_stats_samp)))\n",
    "    err_current = stat_hist[-1][1] + 3 * stat_hist[-1][2]\n",
    "    err_hist.append((iter_current, err_current))\n",
    "\n",
    "    out.append_stdout(f'Iteration {iter_current} ({idx_current}): {stat_hist[-1][1]}, {stat_hist[-1][2]} ({err_thresh})\\n')\n",
    "    with out:\n",
    "        clear_output(wait=True)\n",
    "    iter_current += 1"
   ]
  },
  {
   "cell_type": "markdown",
   "metadata": {},
   "source": [
    "Show distributions, for reference"
   ]
  },
  {
   "cell_type": "code",
   "execution_count": 6,
   "metadata": {
    "execution": {
     "iopub.execute_input": "2024-06-13T17:54:12.427324Z",
     "iopub.status.busy": "2024-06-13T17:54:12.427223Z",
     "iopub.status.idle": "2024-06-13T17:54:22.495699Z",
     "shell.execute_reply": "2024-06-13T17:54:22.495170Z"
    }
   },
   "outputs": [
    {
     "data": {
      "image/png": "[encoded data removed]",
      "text/plain": [
       "<Figure size 1000x300 with 4 Axes>"
      ]
     },
     "metadata": {},
     "output_type": "display_data"
    }
   ],
   "source": [
    "from matplotlib import pyplot as plt\n",
    "\n",
    "fig, axs = plt.subplots(1, len(var_names), figsize=(10.0, 3.0), layout='compressed')\n",
    "for i, name in enumerate(var_names):\n",
    "    for j in range(int(results[name].shape[0]/2)):\n",
    "        axs[i].plot(results_times, results[name][j, :], alpha=0.01, color='gray')\n",
    "    axs[i].set_title(name)\n",
    "    axs[i].set_xlabel('Time')"
   ]
  },
  {
   "cell_type": "markdown",
   "metadata": {},
   "source": [
    "Package metadata"
   ]
  },
  {
   "cell_type": "code",
   "execution_count": 7,
   "metadata": {
    "execution": {
     "iopub.execute_input": "2024-06-13T17:54:22.497419Z",
     "iopub.status.busy": "2024-06-13T17:54:22.497267Z",
     "iopub.status.idle": "2024-06-13T17:54:24.169795Z",
     "shell.execute_reply": "2024-06-13T17:54:24.169020Z"
    }
   },
   "outputs": [
    {
     "name": "stdout",
     "output_type": "stream",
     "text": [
      "Sample size: 4790\n",
      "Simulator: deterministic\n",
      "K-S statistic: 0.05450077969917837, 0.00646541729108952\n",
      "No. sample times: 101\n",
      "Variables: ['S', 'I', 'R', 'V']\n",
      "Significant figures: 15\n",
      "Parameters sampled: ['beta']\n"
     ]
    }
   ],
   "source": [
    "sample_size = int(idx_current/2)\n",
    "results_exp = {n: [results[n][:sample_size, i] for i in range(len(results_times))] for n in var_names}\n",
    "ecf_evals, _, ecf_eval_info = sim_lib.find_ecfs({n: results[n][:sample_size, :] for n in var_names})\n",
    "metadata = sim_lib.Metadata(sample_size=sample_size,\n",
    "                            simulator='deterministic',\n",
    "                            ks_stat_mean=np.mean(ks_stats_samp),\n",
    "                            ks_stat_stdev=np.std(ks_stats_samp),\n",
    "                            sample_times=results_times,\n",
    "                            ecf_evals=ecf_evals,\n",
    "                            ecf_eval_info=ecf_eval_info,\n",
    "                            param_dists=[sim_lib.ParamDist(param_name=n, dist_name=t[0], dist_params=t[1]) for n, t in param_dist.items()])\n",
    "print(metadata)\n",
    "\n",
    "if not os.path.isdir(res_dir):\n",
    "    os.makedirs(res_dir)\n",
    "\n",
    "fp = os.path.join(res_dir, 'sim_modeler.json')\n",
    "with open(fp, 'w') as f:\n",
    "    json.dump(metadata.to_json(), f, indent=4)"
   ]
  },
  {
   "cell_type": "markdown",
   "metadata": {},
   "source": [
    "Record data for later reuse"
   ]
  },
  {
   "cell_type": "code",
   "execution_count": 8,
   "metadata": {
    "execution": {
     "iopub.execute_input": "2024-06-13T17:54:24.171705Z",
     "iopub.status.busy": "2024-06-13T17:54:24.171552Z",
     "iopub.status.idle": "2024-06-13T17:54:26.737378Z",
     "shell.execute_reply": "2024-06-13T17:54:26.736847Z"
    }
   },
   "outputs": [],
   "source": [
    "with open(os.path.join(res_dir, 'simdata_modeler.json'), 'w') as f:\n",
    "    json.dump(dict(sample_size=idx_current,\n",
    "                   sampling_err_thresh=sampling_err_thresh,\n",
    "                   results_times=results_times.tolist(),\n",
    "                   results={n: results[n].tolist() for n in var_names},\n",
    "                   ks_stats_samp=ks_stats_samp,\n",
    "                   err_hist=err_hist), \n",
    "              f, indent=4)"
   ]
  },
  {
   "cell_type": "code",
   "execution_count": 9,
   "metadata": {
    "execution": {
     "iopub.execute_input": "2024-06-13T17:54:26.739268Z",
     "iopub.status.busy": "2024-06-13T17:54:26.739124Z",
     "iopub.status.idle": "2024-06-13T17:54:27.283646Z",
     "shell.execute_reply": "2024-06-13T17:54:27.283082Z"
    }
   },
   "outputs": [
    {
     "data": {
      "image/png": "[encoded data removed]",
      "text/plain": [
       "<Figure size 1000x300 with 8 Axes>"
      ]
     },
     "metadata": {},
     "output_type": "display_data"
    }
   ],
   "source": [
    "# Show a sample, to verify\n",
    "idx_sample = 11\n",
    "eval_t_sample = {n: sim_lib.get_eval_info_times(*ecf_eval_info[n][idx_sample]) for n in var_names}\n",
    "ecfs_sample = {n: sim_lib.ecf(results_exp[n][idx_sample], eval_t_sample[n]) for n in var_names}\n",
    "\n",
    "fig, axs = plt.subplots(2, len(var_names), figsize=(10.0, 3.0), layout='compressed')\n",
    "for j, n in enumerate(var_names):\n",
    "    for i in range(2):\n",
    "        axs[i, j].plot(eval_t_sample[n], ecfs_sample[n][:, i])\n",
    "    \n",
    "    axs[0, j].set_title(n)"
   ]
  },
  {
   "cell_type": "markdown",
   "metadata": {},
   "source": [
    "Show distribution of the final K-S statistic"
   ]
  },
  {
   "cell_type": "code",
   "execution_count": 10,
   "metadata": {
    "execution": {
     "iopub.execute_input": "2024-06-13T17:54:27.285190Z",
     "iopub.status.busy": "2024-06-13T17:54:27.285075Z",
     "iopub.status.idle": "2024-06-13T17:54:27.451580Z",
     "shell.execute_reply": "2024-06-13T17:54:27.451081Z"
    }
   },
   "outputs": [
    {
     "name": "stdout",
     "output_type": "stream",
     "text": [
      "(0.12667760442185858, 0.003664116886960825, 0.050430405353409105)\n",
      "(0.054500783692373954, 4.180643039759933e-05)\n",
      "0.05450077969917837 0.00646541729108952\n"
     ]
    },
    {
     "data": {
      "image/png": "[encoded data removed]",
      "text/plain": [
       "<Figure size 640x480 with 1 Axes>"
      ]
     },
     "metadata": {},
     "output_type": "display_data"
    }
   ],
   "source": [
    "from scipy import stats\n",
    "\n",
    "# All of these distributions generate a reasonable fit\n",
    "\n",
    "# dist = stats.alpha\n",
    "# dist = stats.betaprime\n",
    "# dist = stats.exponnorm\n",
    "# dist = stats.f\n",
    "# dist = stats.fisk\n",
    "# dist = stats.gamma\n",
    "# dist = stats.genextreme\n",
    "# dist = stats.genlogistic\n",
    "# dist = stats.gennorm\n",
    "# dist = stats.gumbel_r\n",
    "# dist = stats.invgamma\n",
    "# dist = stats.invgauss\n",
    "# dist = stats.johnsonsb\n",
    "# dist = stats.johnsonsu\n",
    "# dist = stats.kstwobign\n",
    "dist = stats.lognorm\n",
    "# dist = stats.moyal\n",
    "# dist = stats.norm\n",
    "# dist = stats.norminvgauss\n",
    "# dist = stats.pearson3\n",
    "# dist = stats.recipinvgauss\n",
    "# dist = stats.skewnorm\n",
    "# dist = stats.weibull_max\n",
    "\n",
    "plt.hist(ks_stats_samp, alpha=0.5, label='data', density=True)\n",
    "\n",
    "fit = dist.fit(ks_stats_samp)\n",
    "print(fit)\n",
    "print(dist.stats(*fit))\n",
    "print(np.average(ks_stats_samp), np.std(ks_stats_samp))\n",
    "\n",
    "p = dist(*fit)\n",
    "xmin = min(ks_stats_samp) * 0.9\n",
    "xmax = max(ks_stats_samp) * 1.1\n",
    "x = np.arange(xmin, xmax, (xmax - xmin)/1000)\n",
    "plt.plot(x, p.pdf(x), 'k-', label='Fit: ' + dist.name)\n",
    "_ = plt.legend()"
   ]
  }
 ],
 "metadata": {
  "kernelspec": {
   "display_name": "stoch_repro",
   "language": "python",
   "name": "python3"
  },
  "language_info": {
   "codemirror_mode": {
    "name": "ipython",
    "version": 3
   },
   "file_extension": ".py",
   "mimetype": "text/x-python",
   "name": "python",
   "nbconvert_exporter": "python",
   "pygments_lexer": "ipython3",
   "version": "3.10.13"
  },
  "widgets": {
   "application/vnd.jupyter.widget-state+json": {
    "state": {
     "37b0e6f066ab4bbd91076b1abedf65f0": {
      "model_module": "@jupyter-widgets/output",
      "model_module_version": "1.0.0",
      "model_name": "OutputModel",
      "state": {
       "_dom_classes": [],
       "_model_module": "@jupyter-widgets/output",
       "_model_module_version": "1.0.0",
       "_model_name": "OutputModel",
       "_view_count": null,
       "_view_module": "@jupyter-widgets/output",
       "_view_module_version": "1.0.0",
       "_view_name": "OutputView",
       "layout": "IPY_MODEL_3807fa443b46419a8b282209f14e43fe",
       "msg_id": "",
       "outputs": [
        {
         "name": "stdout",
         "output_type": "stream",
         "text": "Iteration 0 (0): (0.075)\n"
        },
        {
         "name": "stdout",
         "output_type": "stream",
         "text": "Working 100 jobs\n"
        },
        {
         "name": "stdout",
         "output_type": "stream",
         "text": "All results received.\n"
        },
        {
         "name": "stdout",
         "output_type": "stream",
         "text": "Testing sampling\n"
        },
        {
         "name": "stdout",
         "output_type": "stream",
         "text": "Iteration 0 (100): 0.5357552071913722, 0.062402354663838054 (0.075)\n"
        },
        {
         "name": "stdout",
         "output_type": "stream",
         "text": "Iteration 1 (100): 0.5357552071913722, 0.062402354663838054 (0.075)\n"
        },
        {
         "name": "stdout",
         "output_type": "stream",
         "text": "Working 100 jobs\n"
        },
        {
         "name": "stdout",
         "output_type": "stream",
         "text": "All results received.\n"
        },
        {
         "name": "stdout",
         "output_type": "stream",
         "text": "Testing sampling\n"
        },
        {
         "name": "stdout",
         "output_type": "stream",
         "text": "Iteration 1 (200): 0.37772973892020856, 0.04541071883950062 (0.075)\n"
        },
        {
         "name": "stdout",
         "output_type": "stream",
         "text": "Iteration 2 (200): 0.37772973892020856, 0.04541071883950062 (0.075)\n"
        },
        {
         "name": "stdout",
         "output_type": "stream",
         "text": "Working 100 jobs\n"
        },
        {
         "name": "stdout",
         "output_type": "stream",
         "text": "All results received.\n"
        },
        {
         "name": "stdout",
         "output_type": "stream",
         "text": "Testing sampling\n"
        },
        {
         "name": "stdout",
         "output_type": "stream",
         "text": "Iteration 2 (300): 0.3055970183586901, 0.02993279089363184 (0.075)\n"
        },
        {
         "name": "stdout",
         "output_type": "stream",
         "text": "Iteration 3 (300): 0.3055970183586901, 0.02993279089363184 (0.075)\n"
        },
        {
         "name": "stdout",
         "output_type": "stream",
         "text": "Recommended sample size: 6832\n"
        },
        {
         "name": "stdout",
         "output_type": "stream",
         "text": "Jumping ahead with fitted sample size increment: 5000\n"
        },
        {
         "name": "stdout",
         "output_type": "stream",
         "text": "Working 5000 jobs\n"
        },
        {
         "name": "stdout",
         "output_type": "stream",
         "text": "All results received.\n"
        },
        {
         "name": "stdout",
         "output_type": "stream",
         "text": "Testing sampling\n"
        },
        {
         "name": "stdout",
         "output_type": "stream",
         "text": "Iteration 3 (5300): 0.07392757641876657, 0.008707407120963212 (0.075)\n"
        },
        {
         "name": "stdout",
         "output_type": "stream",
         "text": "Iteration 4 (5300): 0.07392757641876657, 0.008707407120963212 (0.075)\n"
        },
        {
         "name": "stdout",
         "output_type": "stream",
         "text": "Recommended sample size: 2612\n"
        },
        {
         "name": "stdout",
         "output_type": "stream",
         "text": "Jumping ahead with fitted sample size increment: 2612\n"
        },
        {
         "name": "stdout",
         "output_type": "stream",
         "text": "Working 2612 jobs\n"
        },
        {
         "name": "stdout",
         "output_type": "stream",
         "text": "All results received.\n"
        },
        {
         "name": "stdout",
         "output_type": "stream",
         "text": "Testing sampling\n"
        },
        {
         "name": "stdout",
         "output_type": "stream",
         "text": "Iteration 4 (7912): 0.06017242486697893, 0.006820857846699315 (0.075)\n"
        },
        {
         "name": "stdout",
         "output_type": "stream",
         "text": "Iteration 5 (7912): 0.06017242486697893, 0.006820857846699315 (0.075)\n"
        },
        {
         "name": "stdout",
         "output_type": "stream",
         "text": "Recommended sample size: 280\n"
        },
        {
         "name": "stdout",
         "output_type": "stream",
         "text": "Jumping ahead with fitted sample size increment: 280\n"
        },
        {
         "name": "stdout",
         "output_type": "stream",
         "text": "Working 280 jobs\n"
        },
        {
         "name": "stdout",
         "output_type": "stream",
         "text": "All results received.\n"
        },
        {
         "name": "stdout",
         "output_type": "stream",
         "text": "Testing sampling\n"
        },
        {
         "name": "stdout",
         "output_type": "stream",
         "text": "Iteration 5 (8192): 0.05883193197488771, 0.007421520381549017 (0.075)\n"
        },
        {
         "name": "stdout",
         "output_type": "stream",
         "text": "Iteration 6 (8192): 0.05883193197488771, 0.007421520381549017 (0.075)\n"
        },
        {
         "name": "stdout",
         "output_type": "stream",
         "text": "Recommended sample size: 256\n"
        },
        {
         "name": "stdout",
         "output_type": "stream",
         "text": "Jumping ahead with fitted sample size increment: 256\n"
        },
        {
         "name": "stdout",
         "output_type": "stream",
         "text": "Working 256 jobs\n"
        },
        {
         "name": "stdout",
         "output_type": "stream",
         "text": "All results received.\n"
        },
        {
         "name": "stdout",
         "output_type": "stream",
         "text": "Testing sampling\n"
        },
        {
         "name": "stdout",
         "output_type": "stream",
         "text": "Iteration 6 (8448): 0.05868874428354883, 0.00665076630754948 (0.075)\n"
        },
        {
         "name": "stdout",
         "output_type": "stream",
         "text": "Iteration 7 (8448): 0.05868874428354883, 0.00665076630754948 (0.075)\n"
        },
        {
         "name": "stdout",
         "output_type": "stream",
         "text": "Recommended sample size: 132\n"
        },
        {
         "name": "stdout",
         "output_type": "stream",
         "text": "Jumping ahead with fitted sample size increment: 132\n"
        },
        {
         "name": "stdout",
         "output_type": "stream",
         "text": "Working 132 jobs\n"
        },
        {
         "name": "stdout",
         "output_type": "stream",
         "text": "All results received.\n"
        },
        {
         "name": "stdout",
         "output_type": "stream",
         "text": "Testing sampling\n"
        },
        {
         "name": "stdout",
         "output_type": "stream",
         "text": "Iteration 7 (8580): 0.05750746763644582, 0.006797995547175836 (0.075)\n"
        },
        {
         "name": "stdout",
         "output_type": "stream",
         "text": "Iteration 8 (8580): 0.05750746763644582, 0.006797995547175836 (0.075)\n"
        },
        {
         "name": "stdout",
         "output_type": "stream",
         "text": "Recommended sample size: 90\n"
        },
        {
         "name": "stdout",
         "output_type": "stream",
         "text": "Jumping ahead with fitted sample size increment: 100\n"
        },
        {
         "name": "stdout",
         "output_type": "stream",
         "text": "Working 100 jobs\n"
        },
        {
         "name": "stdout",
         "output_type": "stream",
         "text": "All results received.\n"
        },
        {
         "name": "stdout",
         "output_type": "stream",
         "text": "Testing sampling\n"
        },
        {
         "name": "stdout",
         "output_type": "stream",
         "text": "Iteration 8 (8680): 0.05733296090897478, 0.006742042193187499 (0.075)\n"
        },
        {
         "name": "stdout",
         "output_type": "stream",
         "text": "Iteration 9 (8680): 0.05733296090897478, 0.006742042193187499 (0.075)\n"
        },
        {
         "name": "stdout",
         "output_type": "stream",
         "text": "Recommended sample size: 64\n"
        },
        {
         "name": "stdout",
         "output_type": "stream",
         "text": "Jumping ahead with fitted sample size increment: 100\n"
        },
        {
         "name": "stdout",
         "output_type": "stream",
         "text": "Working 100 jobs\n"
        },
        {
         "name": "stdout",
         "output_type": "stream",
         "text": "All results received.\n"
        },
        {
         "name": "stdout",
         "output_type": "stream",
         "text": "Testing sampling\n"
        },
        {
         "name": "stdout",
         "output_type": "stream",
         "text": "Iteration 9 (8780): 0.05757037642810617, 0.006488465357391258 (0.075)\n"
        },
        {
         "name": "stdout",
         "output_type": "stream",
         "text": "Iteration 10 (8780): 0.05757037642810617, 0.006488465357391258 (0.075)\n"
        },
        {
         "name": "stdout",
         "output_type": "stream",
         "text": "Recommended sample size: 18\n"
        },
        {
         "name": "stdout",
         "output_type": "stream",
         "text": "Jumping ahead with fitted sample size increment: 100\n"
        },
        {
         "name": "stdout",
         "output_type": "stream",
         "text": "Working 100 jobs\n"
        },
        {
         "name": "stdout",
         "output_type": "stream",
         "text": "All results received.\n"
        },
        {
         "name": "stdout",
         "output_type": "stream",
         "text": "Testing sampling\n"
        },
        {
         "name": "stdout",
         "output_type": "stream",
         "text": "Iteration 10 (8880): 0.05714052162573847, 0.0067093510614121745 (0.075)\n"
        },
        {
         "name": "stdout",
         "output_type": "stream",
         "text": "Iteration 11 (8880): 0.05714052162573847, 0.0067093510614121745 (0.075)\n"
        },
        {
         "name": "stdout",
         "output_type": "stream",
         "text": "Working 100 jobs\n"
        },
        {
         "name": "stdout",
         "output_type": "stream",
         "text": "All results received.\n"
        },
        {
         "name": "stdout",
         "output_type": "stream",
         "text": "Testing sampling\n"
        },
        {
         "name": "stdout",
         "output_type": "stream",
         "text": "Iteration 11 (8980): 0.056704428860336095, 0.006836696818617151 (0.075)\n"
        },
        {
         "name": "stdout",
         "output_type": "stream",
         "text": "Iteration 12 (8980): 0.056704428860336095, 0.006836696818617151 (0.075)\n"
        },
        {
         "name": "stdout",
         "output_type": "stream",
         "text": "Working 100 jobs\n"
        },
        {
         "name": "stdout",
         "output_type": "stream",
         "text": "All results received.\n"
        },
        {
         "name": "stdout",
         "output_type": "stream",
         "text": "Testing sampling\n"
        },
        {
         "name": "stdout",
         "output_type": "stream",
         "text": "Iteration 12 (9080): 0.056214398346757975, 0.006879397638671775 (0.075)\n"
        },
        {
         "name": "stdout",
         "output_type": "stream",
         "text": "Iteration 13 (9080): 0.056214398346757975, 0.006879397638671775 (0.075)\n"
        },
        {
         "name": "stdout",
         "output_type": "stream",
         "text": "Working 100 jobs\n"
        },
        {
         "name": "stdout",
         "output_type": "stream",
         "text": "All results received.\n"
        },
        {
         "name": "stdout",
         "output_type": "stream",
         "text": "Testing sampling\n"
        },
        {
         "name": "stdout",
         "output_type": "stream",
         "text": "Iteration 13 (9180): 0.05595750964321505, 0.006367024990602083 (0.075)\n"
        },
        {
         "name": "stdout",
         "output_type": "stream",
         "text": "Iteration 14 (9180): 0.05595750964321505, 0.006367024990602083 (0.075)\n"
        },
        {
         "name": "stdout",
         "output_type": "stream",
         "text": "Working 100 jobs\n"
        },
        {
         "name": "stdout",
         "output_type": "stream",
         "text": "All results received.\n"
        },
        {
         "name": "stdout",
         "output_type": "stream",
         "text": "Testing sampling\n"
        },
        {
         "name": "stdout",
         "output_type": "stream",
         "text": "Iteration 14 (9280): 0.05569914473487023, 0.0068390132937927095 (0.075)\n"
        },
        {
         "name": "stdout",
         "output_type": "stream",
         "text": "Iteration 15 (9280): 0.05569914473487023, 0.0068390132937927095 (0.075)\n"
        },
        {
         "name": "stdout",
         "output_type": "stream",
         "text": "Working 100 jobs\n"
        },
        {
         "name": "stdout",
         "output_type": "stream",
         "text": "All results received.\n"
        },
        {
         "name": "stdout",
         "output_type": "stream",
         "text": "Testing sampling\n"
        },
        {
         "name": "stdout",
         "output_type": "stream",
         "text": "Iteration 15 (9380): 0.05540629415702645, 0.006850608165236811 (0.075)\n"
        },
        {
         "name": "stdout",
         "output_type": "stream",
         "text": "Iteration 16 (9380): 0.05540629415702645, 0.006850608165236811 (0.075)\n"
        },
        {
         "name": "stdout",
         "output_type": "stream",
         "text": "Working 100 jobs\n"
        },
        {
         "name": "stdout",
         "output_type": "stream",
         "text": "All results received.\n"
        },
        {
         "name": "stdout",
         "output_type": "stream",
         "text": "Testing sampling\n"
        },
        {
         "name": "stdout",
         "output_type": "stream",
         "text": "Iteration 16 (9480): 0.055156047955061745, 0.00669890152699776 (0.075)\n"
        },
        {
         "name": "stdout",
         "output_type": "stream",
         "text": "Iteration 17 (9480): 0.055156047955061745, 0.00669890152699776 (0.075)\n"
        },
        {
         "name": "stdout",
         "output_type": "stream",
         "text": "Working 100 jobs\n"
        },
        {
         "name": "stdout",
         "output_type": "stream",
         "text": "All results received.\n"
        },
        {
         "name": "stdout",
         "output_type": "stream",
         "text": "Testing sampling\n"
        },
        {
         "name": "stdout",
         "output_type": "stream",
         "text": "Iteration 17 (9580): 0.05450077969917837, 0.00646541729108952 (0.075)\n"
        }
       ],
       "tabbable": null,
       "tooltip": null
      }
     },
     "3807fa443b46419a8b282209f14e43fe": {
      "model_module": "@jupyter-widgets/base",
      "model_module_version": "2.0.0",
      "model_name": "LayoutModel",
      "state": {
       "_model_module": "@jupyter-widgets/base",
       "_model_module_version": "2.0.0",
       "_model_name": "LayoutModel",
       "_view_count": null,
       "_view_module": "@jupyter-widgets/base",
       "_view_module_version": "2.0.0",
       "_view_name": "LayoutView",
       "align_content": null,
       "align_items": null,
       "align_self": null,
       "border_bottom": null,
       "border_left": null,
       "border_right": null,
       "border_top": null,
       "bottom": null,
       "display": null,
       "flex": null,
       "flex_flow": null,
       "grid_area": null,
       "grid_auto_columns": null,
       "grid_auto_flow": null,
       "grid_auto_rows": null,
       "grid_column": null,
       "grid_gap": null,
       "grid_row": null,
       "grid_template_areas": null,
       "grid_template_columns": null,
       "grid_template_rows": null,
       "height": null,
       "justify_content": null,
       "justify_items": null,
       "left": null,
       "margin": null,
       "max_height": null,
       "max_width": null,
       "min_height": null,
       "min_width": null,
       "object_fit": null,
       "object_position": null,
       "order": null,
       "overflow": null,
       "padding": null,
       "right": null,
       "top": null,
       "visibility": null,
       "width": null
      }
     },
     "6acdbe48a44747929ba99648a4219c49": {
      "model_module": "@jupyter-widgets/output",
      "model_module_version": "1.0.0",
      "model_name": "OutputModel",
      "state": {
       "_dom_classes": [],
       "_model_module": "@jupyter-widgets/output",
       "_model_module_version": "1.0.0",
       "_model_name": "OutputModel",
       "_view_count": null,
       "_view_module": "@jupyter-widgets/output",
       "_view_module_version": "1.0.0",
       "_view_name": "OutputView",
       "layout": "IPY_MODEL_84d2a867747b41459a143644f2d4f337",
       "msg_id": "",
       "outputs": [],
       "tabbable": null,
       "tooltip": null
      }
     },
     "84d2a867747b41459a143644f2d4f337": {
      "model_module": "@jupyter-widgets/base",
      "model_module_version": "2.0.0",
      "model_name": "LayoutModel",
      "state": {
       "_model_module": "@jupyter-widgets/base",
       "_model_module_version": "2.0.0",
       "_model_name": "LayoutModel",
       "_view_count": null,
       "_view_module": "@jupyter-widgets/base",
       "_view_module_version": "2.0.0",
       "_view_name": "LayoutView",
       "align_content": null,
       "align_items": null,
       "align_self": null,
       "border_bottom": null,
       "border_left": null,
       "border_right": null,
       "border_top": null,
       "bottom": null,
       "display": null,
       "flex": null,
       "flex_flow": null,
       "grid_area": null,
       "grid_auto_columns": null,
       "grid_auto_flow": null,
       "grid_auto_rows": null,
       "grid_column": null,
       "grid_gap": null,
       "grid_row": null,
       "grid_template_areas": null,
       "grid_template_columns": null,
       "grid_template_rows": null,
       "height": null,
       "justify_content": null,
       "justify_items": null,
       "left": null,
       "margin": null,
       "max_height": null,
       "max_width": null,
       "min_height": null,
       "min_width": null,
       "object_fit": null,
       "object_position": null,
       "order": null,
       "overflow": null,
       "padding": null,
       "right": null,
       "top": null,
       "visibility": null,
       "width": null
      }
     }
    },
    "version_major": 2,
    "version_minor": 0
   }
  }
 },
 "nbformat": 4,
 "nbformat_minor": 2
}
