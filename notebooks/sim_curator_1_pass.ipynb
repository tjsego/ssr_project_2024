{
 "cells": [
  {
   "cell_type": "markdown",
   "metadata": {},
   "source": [
    "Simulate what a curator would do when following the proposed pipeline in the scenario where the modeler did their job correctly. "
   ]
  },
  {
   "cell_type": "code",
   "execution_count": null,
   "metadata": {},
   "outputs": [],
   "source": [
    "import numpy as np\n",
    "import os\n",
    "import json\n",
    "import matplotlib.pyplot as plt\n",
    "\n",
    "import sim_lib\n",
    "\n",
    "res_dir = os.path.join('results', 'workflow_sim_1')"
   ]
  },
  {
   "cell_type": "code",
   "execution_count": null,
   "metadata": {},
   "outputs": [],
   "source": [
    "fp = os.path.join(res_dir, 'sim_modeler.json')\n",
    "with open(fp, 'r') as f:\n",
    "    modeler_metadata = sim_lib.Metadata.from_json(json.load(f))"
   ]
  },
  {
   "cell_type": "code",
   "execution_count": null,
   "metadata": {},
   "outputs": [],
   "source": [
    "model_string_antimony = \"\"\"\n",
    "species S, I, R, V;\n",
    "\n",
    "S -> I ; beta * S * V;\n",
    "I -> R ; delta * I;\n",
    "-> V  ; p * I - k * V;\n",
    "\n",
    "S = 1E6;\n",
    "I = 0.0;\n",
    "R = 0.0;\n",
    "V = 2.0;\n",
    "\n",
    "beta = 2.0E-6;\n",
    "k = 4.0;\n",
    "delta = 1E0;\n",
    "p = 25.0;\n",
    "\"\"\"\n",
    "stochastic = modeler_metadata.simulator == 'gillespie_ssa'\n",
    "t_fin = modeler_metadata.sample_times[-1]\n",
    "num_steps = modeler_metadata.sample_times.shape[0]\n",
    "ecf_eval_info = modeler_metadata.ecf_eval_info\n",
    "\n",
    "model_string_sbml = sim_lib.antimony_to_sbml(model_string_antimony)\n",
    "var_names = list(modeler_metadata.ecf_evals.keys())\n",
    "\n",
    "param_dists = {pd.param_name: (pd.dist_name, pd.dist_params) for pd in modeler_metadata.param_dists}"
   ]
  },
  {
   "cell_type": "markdown",
   "metadata": {},
   "source": [
    "Generate data from curator's implementation"
   ]
  },
  {
   "cell_type": "code",
   "execution_count": null,
   "metadata": {},
   "outputs": [],
   "source": [
    "results = dict()\n",
    "for name in var_names:\n",
    "    results[name] = np.zeros((2*modeler_metadata.sample_size, num_steps))\n",
    "\n",
    "rr = sim_lib.make_rr(model_string_sbml, stochastic)\n",
    "\n",
    "for i, res in enumerate(sim_lib.exec_rr_batch(2*modeler_metadata.sample_size, rr, t_fin, num_steps, stochastic, dists=param_dists)):\n",
    "    for name in var_names:\n",
    "        results[name][i, :] = res[:, res.colnames.index(f'[{name}]')]\n",
    "\n",
    "sample_times = rr.simulate(0, t_fin, num_steps)['time']"
   ]
  },
  {
   "cell_type": "markdown",
   "metadata": {},
   "source": [
    "Show results, for reference"
   ]
  },
  {
   "cell_type": "code",
   "execution_count": null,
   "metadata": {},
   "outputs": [],
   "source": [
    "fig, axs = plt.subplots(1, len(var_names), figsize=(10.0, 3.0), layout='compressed')\n",
    "for i, name in enumerate(var_names):\n",
    "    for j in range(results[name].shape[0]):\n",
    "        axs[i].plot(sample_times, results[name][j, :], alpha=0.01, color='gray')\n",
    "    axs[i].set_title(name)\n",
    "    axs[i].set_xlabel('Time')"
   ]
  },
  {
   "cell_type": "markdown",
   "metadata": {},
   "source": [
    "Test against modeler's sampling data"
   ]
  },
  {
   "cell_type": "code",
   "execution_count": null,
   "metadata": {},
   "outputs": [],
   "source": [
    "sampling_err_thresh = 0.001\n",
    "ks_stats_samp = sim_lib.test_sampling(results, err_thresh=sampling_err_thresh)[0]\n",
    "print('Curator\\'s K-S statistics:', np.average(ks_stats_samp), np.std(ks_stats_samp))\n",
    "print('Modeler\\'s K-S statistics:', modeler_metadata.ks_stat_mean, modeler_metadata.ks_stat_stdev)"
   ]
  },
  {
   "cell_type": "markdown",
   "metadata": {},
   "source": [
    "Test against modeler's data"
   ]
  },
  {
   "cell_type": "code",
   "execution_count": null,
   "metadata": {},
   "outputs": [],
   "source": [
    "err_max = 0.0\n",
    "res_oi_idx = 0\n",
    "for name in var_names:\n",
    "    for i in range(num_steps):\n",
    "        ecf_curator = sim_lib.ecf(results[name][:, i][:modeler_metadata.sample_size].T, \n",
    "                                  sim_lib.get_eval_info_times(*ecf_eval_info[name][i]))\n",
    "        err_i = sim_lib.ecf_compare(ecf_curator, modeler_metadata.ecf_evals[name][i])\n",
    "        if err_i > err_max:\n",
    "            res_oi_idx = i\n",
    "            err_max = err_i\n",
    "\n",
    "fig, axs = plt.subplots(2, len(var_names), figsize=(10.0, 3.0), layout='compressed')\n",
    "for j, name in enumerate(var_names):\n",
    "    eval_t = sim_lib.get_eval_info_times(*ecf_eval_info[name][res_oi_idx])\n",
    "    ecf_curator = sim_lib.ecf(results[name][:, res_oi_idx], eval_t)\n",
    "    ecf_modeler = modeler_metadata.ecf_evals[name][res_oi_idx]\n",
    "    for i in range(2):\n",
    "        axs[i, j].plot(eval_t, ecf_curator[:, i], label='Curator')\n",
    "        axs[i, j].plot(eval_t, ecf_modeler[:, i], label='Modeler')\n",
    "    axs[0, j].set_title(name)\n",
    "axs[0, 0].legend()\n",
    "\n",
    "print('Maximum K-S statistic:', err_max)"
   ]
  },
  {
   "cell_type": "markdown",
   "metadata": {},
   "source": [
    "Record data"
   ]
  },
  {
   "cell_type": "code",
   "execution_count": null,
   "metadata": {},
   "outputs": [],
   "source": [
    "with open(os.path.join(res_dir, 'simdata_curator_pass.json'), 'w') as f:\n",
    "    json.dump(dict(sample_size=2*modeler_metadata.sample_size,\n",
    "                   sampling_err_thresh=sampling_err_thresh,\n",
    "                   results_times=sample_times.tolist(),\n",
    "                   results={n: results[n].tolist() for n in var_names},\n",
    "                   ks_stats_samp=ks_stats_samp), \n",
    "              f, indent=4)"
   ]
  }
 ],
 "metadata": {
  "kernelspec": {
   "display_name": "stoch_repro",
   "language": "python",
   "name": "python3"
  },
  "language_info": {
   "codemirror_mode": {
    "name": "ipython",
    "version": 3
   },
   "file_extension": ".py",
   "mimetype": "text/x-python",
   "name": "python",
   "nbconvert_exporter": "python",
   "pygments_lexer": "ipython3",
   "version": "3.10.13"
  }
 },
 "nbformat": 4,
 "nbformat_minor": 2
}
