{
 "cells": [
  {
   "cell_type": "code",
   "execution_count": null,
   "id": "341b8329",
   "metadata": {},
   "outputs": [],
   "source": [
    "import ipywidgets as ipw\n",
    "from IPython.display import display\n",
    "\n",
    "from stochastic_repro import start_pool\n",
    "from stochastic_models import biomodels_1805160001\n",
    "from stochastic_tests import Test\n",
    "\n",
    "t_fin = 1200.0\n",
    "num_steps = 1200\n",
    "\n",
    "test = Test(model=biomodels_1805160001(),\n",
    "            t_fin=t_fin,\n",
    "            num_steps=num_steps,\n",
    "            sample_times=[t_fin / num_steps * i for i in range(1, num_steps + 1)],\n",
    "            trials=[10, 100, 1000, 10000],\n",
    "            stochastic=True)"
   ]
  },
  {
   "cell_type": "code",
   "execution_count": null,
   "id": "ea1856e2",
   "metadata": {
    "scrolled": true
   },
   "outputs": [],
   "source": [
    "test.execute_deterministic()\n",
    "# _ = test.plot_results_deterministic()  # Too many variables"
   ]
  },
  {
   "cell_type": "markdown",
   "id": "9edcb774",
   "metadata": {},
   "source": [
    "Stochastic simulation results can be treated as a distribution with statistical properties such as mean and standard deviation. Distributions should become smooth with increasing number of trials. "
   ]
  },
  {
   "cell_type": "code",
   "execution_count": null,
   "id": "781669d6",
   "metadata": {
    "scrolled": false
   },
   "outputs": [],
   "source": [
    "label, out = ipw.Label(), ipw.Output()\n",
    "display(out)\n",
    "with out:\n",
    "    display(label)\n",
    "\n",
    "start_pool()\n",
    "test.execute_stochastic(label)\n",
    "_ = out.clear_output()"
   ]
  },
  {
   "cell_type": "code",
   "execution_count": null,
   "id": "a1d97b55",
   "metadata": {},
   "outputs": [],
   "source": [
    "# _ = test.plot_results_stochastic(False)  # Too many variables"
   ]
  },
  {
   "cell_type": "code",
   "execution_count": null,
   "id": "8ba23cef",
   "metadata": {},
   "outputs": [],
   "source": [
    "# _ = test.plot_stats()"
   ]
  },
  {
   "cell_type": "markdown",
   "id": "de85156d",
   "metadata": {},
   "source": [
    "If we bin replicate results at each sample time, we should find that the probability distribution function of a variable at each time point converges with increasing number of replicates. "
   ]
  },
  {
   "cell_type": "code",
   "execution_count": null,
   "id": "68acffd0",
   "metadata": {},
   "outputs": [],
   "source": [
    "# _ = test.plot_distributions()  # Too many variables"
   ]
  },
  {
   "cell_type": "markdown",
   "id": "d0c492c2",
   "metadata": {},
   "source": [
    "Results distributions should converge as the number of trials increases. At any sampled simulation time, convergence appears as a distribution that converges with increasing number of trials. Convergence can be quantified by measuring the change in distribution for an increase in number of trials. We should find that the change in distribution goes to zero everywhere as the number of trials increases. "
   ]
  },
  {
   "cell_type": "code",
   "execution_count": null,
   "id": "45ee9008",
   "metadata": {},
   "outputs": [],
   "source": [
    "test.find_ecfs()\n",
    "test.measure_ecf_diffs()\n",
    "# test.plot_ecf()  # Too many variables\n",
    "# test.plot_ecf_diffs()  # Too many variables\n",
    "# _ = test.plot_ecf_comparison()  # Too many variables"
   ]
  },
  {
   "cell_type": "code",
   "execution_count": null,
   "metadata": {},
   "outputs": [],
   "source": [
    "test.generate_ecf_diff_fits()"
   ]
  },
  {
   "cell_type": "code",
   "execution_count": null,
   "metadata": {},
   "outputs": [],
   "source": [
    "# _, axs = test.plot_ecf_diff_fits(test.plot_ecf_diffs())  # Too many variables\n",
    "# _ = axs[0].legend()  # Too many variables"
   ]
  },
  {
   "cell_type": "code",
   "execution_count": null,
   "metadata": {},
   "outputs": [],
   "source": [
    "out = ipw.Output()\n",
    "display(out)\n",
    "\n",
    "for var_name in test.model.results_names:\n",
    "    with out:\n",
    "        print('Variable:', var_name)\n",
    "    for trial, name_data in test.ecf_diff.items():\n",
    "        with out:\n",
    "            print(f'\\tTrials {trial} ; K-S stat: {name_data[var_name]}')"
   ]
  },
  {
   "cell_type": "code",
   "execution_count": null,
   "id": "e5a5466c",
   "metadata": {},
   "outputs": [],
   "source": [
    "# Runtime: ~188 minutes (M1 max)\n",
    "test.test_sampling(err_thresh=1E-3)"
   ]
  },
  {
   "cell_type": "code",
   "execution_count": null,
   "id": "549e7afa",
   "metadata": {},
   "outputs": [],
   "source": [
    "_ = test.plot_ks_sampling()"
   ]
  },
  {
   "cell_type": "code",
   "execution_count": null,
   "id": "a4b8288b",
   "metadata": {},
   "outputs": [],
   "source": [
    "test.generate_ecf_sampling_fits()\n",
    "_, ax = test.plot_ecf_sampling_fits(test.plot_ecf_sampling())\n",
    "_ = ax.legend()"
   ]
  }
 ],
 "metadata": {
  "kernelspec": {
   "display_name": "Python 3",
   "language": "python",
   "name": "python3"
  },
  "language_info": {
   "codemirror_mode": {
    "name": "ipython",
    "version": 3
   },
   "file_extension": ".py",
   "mimetype": "text/x-python",
   "name": "python",
   "nbconvert_exporter": "python",
   "pygments_lexer": "ipython3",
   "version": "3.10.13"
  }
 },
 "nbformat": 4,
 "nbformat_minor": 5
}
