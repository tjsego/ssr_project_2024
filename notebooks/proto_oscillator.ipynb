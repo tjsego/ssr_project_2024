{
 "cells": [
  {
   "cell_type": "markdown",
   "metadata": {},
   "source": [
    "This example shows how approximate distributions may not be unique when a system is in equilibrium. \n",
    "\n",
    "Note that this is a consequence of the model and not a limitation of the method because a random processes described in a model may have the same equlibrium distribution as that of another random process. Hence, we cannot uniquely determine a stochastic model from a given results set that only samples the system in equilibrium. Rather, we can only test whether a given model produces such a given results set. \n",
    "\n",
    "Note also that perturbed states seem to better demonstrate uniqueness, however such an approach is still insufficient to determine the model that produced a given results set. This naturally follows from the Taylor expansion. \n",
    "\n",
    "Probably the point to make is that our goal is not to provide a method for determining the model that produced a given results set. Rather, our goal is to test whether a given model produces a given dataset, and to make such tests possible at scale by providing guidelines, methods, tools, etc. that lead to reporting of necessary and sufficient data to perform such tests as common scientific practice. "
   ]
  },
  {
   "cell_type": "code",
   "execution_count": null,
   "metadata": {},
   "outputs": [],
   "source": [
    "import ipywidgets as ipw\n",
    "from IPython.display import display\n",
    "\n",
    "from stochastic_repro import start_pool\n",
    "from stochastic_models import model_oscillator\n",
    "from stochastic_tests import Test\n",
    "\n",
    "t_fin = 10.0\n",
    "num_steps = 100\n",
    "\n",
    "test = Test(model=model_oscillator({'t0': ('norm', (0, 1E0))}),\n",
    "            t_fin=t_fin,\n",
    "            num_steps=num_steps,\n",
    "            sample_times=[t_fin / num_steps * i for i in range(1, num_steps + 1)],\n",
    "            trials=[10, 100, 1000, 10000],\n",
    "            stochastic=False)"
   ]
  },
  {
   "cell_type": "code",
   "execution_count": null,
   "metadata": {},
   "outputs": [],
   "source": [
    "test.execute_deterministic()\n",
    "_ = test.plot_results_deterministic()"
   ]
  },
  {
   "cell_type": "code",
   "execution_count": null,
   "metadata": {},
   "outputs": [],
   "source": [
    "label, out = ipw.Label(), ipw.Output()\n",
    "display(out)\n",
    "with out:\n",
    "    display(label)\n",
    "\n",
    "start_pool()\n",
    "test.execute_stochastic(label)\n",
    "_ = out.clear_output()"
   ]
  },
  {
   "cell_type": "code",
   "execution_count": null,
   "metadata": {},
   "outputs": [],
   "source": [
    "_ = test.plot_results_stochastic()"
   ]
  },
  {
   "cell_type": "code",
   "execution_count": null,
   "metadata": {},
   "outputs": [],
   "source": [
    "_ = test.plot_stats()"
   ]
  },
  {
   "cell_type": "code",
   "execution_count": null,
   "metadata": {},
   "outputs": [],
   "source": [
    "_ = test.plot_distributions()"
   ]
  },
  {
   "cell_type": "markdown",
   "metadata": {},
   "source": [
    "Note here that as the results sets converge to reliable distributions, those distributions are (practically) the same at equilibrium. "
   ]
  },
  {
   "cell_type": "code",
   "execution_count": null,
   "metadata": {},
   "outputs": [],
   "source": [
    "test.find_ecfs()\n",
    "test.measure_ecf_diffs()"
   ]
  },
  {
   "cell_type": "code",
   "execution_count": null,
   "metadata": {},
   "outputs": [],
   "source": [
    "for t in test.trials:\n",
    "    ecf_ks_stat_t = {n: -1 for n in test.model.results_names}\n",
    "    for ks in test.ecf_ks_stat[t]:\n",
    "        for n, ks_stat in ks.items():\n",
    "            ecf_ks_stat_t[n] = max(ecf_ks_stat_t[n], ks_stat)\n",
    "    print(f'{t} trials')\n",
    "    for n, ks_stat in ecf_ks_stat_t.items():\n",
    "        print(f'\\t{n}: {ks_stat}')"
   ]
  },
  {
   "cell_type": "code",
   "execution_count": null,
   "metadata": {},
   "outputs": [],
   "source": [
    "preview_time = test.max_ks_stat_time(test.trials[-1])\n",
    "# preview_time = test.min_final_eval_time(test.trials[-1])\n",
    "\n",
    "test.plot_ecf(time=preview_time)\n",
    "test.plot_ecf_diffs()\n",
    "_ = test.plot_ecf_comparison(time=preview_time)"
   ]
  },
  {
   "cell_type": "code",
   "execution_count": null,
   "metadata": {},
   "outputs": [],
   "source": [
    "test.generate_ecf_diff_fits()"
   ]
  },
  {
   "cell_type": "code",
   "execution_count": null,
   "metadata": {},
   "outputs": [],
   "source": [
    "_, axs = test.plot_ecf_diff_fits(test.plot_ecf_diffs())\n",
    "_ = axs[0].legend()"
   ]
  },
  {
   "cell_type": "code",
   "execution_count": null,
   "metadata": {},
   "outputs": [],
   "source": [
    "# Runtime: ~3 minutes (M1 max)\n",
    "test.test_sampling(err_thresh=1E-3)"
   ]
  },
  {
   "cell_type": "code",
   "execution_count": null,
   "metadata": {},
   "outputs": [],
   "source": [
    "_ = test.plot_ks_sampling()"
   ]
  },
  {
   "cell_type": "code",
   "execution_count": null,
   "metadata": {},
   "outputs": [],
   "source": [
    "test.generate_ecf_sampling_fits()\n",
    "_, ax = test.plot_ecf_sampling_fits(test.plot_ecf_sampling())\n",
    "_ = ax.legend()"
   ]
  }
 ],
 "metadata": {
  "kernelspec": {
   "display_name": "stoch_repro",
   "language": "python",
   "name": "python3"
  },
  "language_info": {
   "codemirror_mode": {
    "name": "ipython",
    "version": 3
   },
   "file_extension": ".py",
   "mimetype": "text/x-python",
   "name": "python",
   "nbconvert_exporter": "python",
   "pygments_lexer": "ipython3",
   "version": "3.10.13"
  }
 },
 "nbformat": 4,
 "nbformat_minor": 2
}
