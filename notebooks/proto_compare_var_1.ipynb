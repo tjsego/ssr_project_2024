{
 "cells": [
  {
   "cell_type": "code",
   "execution_count": null,
   "metadata": {},
   "outputs": [],
   "source": [
    "import ipywidgets as ipw\n",
    "from IPython.display import display\n",
    "import matplotlib.colors as mcolors\n",
    "from matplotlib import pyplot as plt\n",
    "import numpy as np\n",
    "import json\n",
    "\n",
    "from stochastic_models import model_sir\n",
    "from stochastic_tests import Test\n",
    "import sim_lib\n",
    "\n",
    "t_fin = 10.0\n",
    "num_steps = 200\n",
    "test_kwargs = dict(t_fin=t_fin, \n",
    "                   num_steps=num_steps, \n",
    "                   trials=[100, 1000, 10000], \n",
    "                   sample_times=[t_fin / num_steps * i for i in range(0, num_steps + 1)])\n",
    "\n",
    "beta_mean = 2E-6\n",
    "beta_stdevs = [x * beta_mean for x in [0.1, 0.2, 0.3]]\n",
    "\n",
    "_ = sim_lib.start_pool()"
   ]
  },
  {
   "cell_type": "code",
   "execution_count": null,
   "metadata": {},
   "outputs": [],
   "source": [
    "tests = [Test(model=model_sir({'beta': ('norm', (beta_mean, bs))}), stochastic=False, **test_kwargs) for bs in beta_stdevs]"
   ]
  },
  {
   "cell_type": "code",
   "execution_count": null,
   "metadata": {},
   "outputs": [],
   "source": [
    "[test.execute_deterministic() for test in tests]\n",
    "_ = tests[0].plot_results_deterministic()"
   ]
  },
  {
   "cell_type": "code",
   "execution_count": null,
   "metadata": {},
   "outputs": [],
   "source": [
    "label, label_header, out = ipw.Label(), ipw.Label(), ipw.Output()\n",
    "display(out)\n",
    "with out:\n",
    "    display(label_header)\n",
    "    display(label)\n",
    "\n",
    "for i, test in enumerate(tests):\n",
    "    label_header.value = f'Test {i+1}...'\n",
    "    test.execute_stochastic(label)\n",
    "_ = out.clear_output()"
   ]
  },
  {
   "cell_type": "code",
   "execution_count": null,
   "metadata": {},
   "outputs": [],
   "source": [
    "_ = [test.plot_results_stochastic() for test in tests]"
   ]
  },
  {
   "cell_type": "code",
   "execution_count": null,
   "metadata": {},
   "outputs": [],
   "source": [
    "_ = [test.plot_distributions() for test in tests]"
   ]
  },
  {
   "cell_type": "code",
   "execution_count": null,
   "metadata": {},
   "outputs": [],
   "source": [
    "label, out = ipw.Label(), ipw.Output()\n",
    "display(out)\n",
    "with out:\n",
    "    display(label)\n",
    "\n",
    "\n",
    "for i, test in enumerate(tests):\n",
    "    label.value = f'Test: {i+1}... '\n",
    "\n",
    "    label.value += 'Finding ECFs... '\n",
    "    test.find_ecfs()\n",
    "    label.value += 'Finding differences... '\n",
    "    test.measure_ecf_diffs()\n",
    "    label.value += 'Testing samples... '\n",
    "    test.test_sampling(err_thresh=1E-3)\n",
    "    label.value += 'Generating fits... '\n",
    "    test.generate_ecf_sampling_fits()\n",
    "_ = out.clear_output()"
   ]
  },
  {
   "cell_type": "markdown",
   "metadata": {},
   "source": [
    "Show sensitivity to parameter variance."
   ]
  },
  {
   "cell_type": "code",
   "execution_count": null,
   "metadata": {},
   "outputs": [],
   "source": [
    "def plot_ecf_sampling(test, ax):\n",
    "    avg = np.asarray([test.ecf_sampling[t][0] for t in test.trials], dtype=float)\n",
    "    std = np.asarray([test.ecf_sampling[t][1] for t in test.trials], dtype=float)\n",
    "    ax.errorbar(test.trials, avg, yerr=std, marker='o', linestyle='none')\n",
    "    ax.set_xlabel('No. trials')\n",
    "    ax.set_xscale('log')\n",
    "    ax.set_yscale('log')\n",
    "\n",
    "    return ax\n",
    "\n",
    "\n",
    "fig, axs = plt.subplots(1, len(tests), figsize=(12.0, 3.0), layout='compressed', sharey=True)\n",
    "\n",
    "for i, test in enumerate(tests):\n",
    "    _, ax = test.plot_ecf_sampling_fits((fig, plot_ecf_sampling(test, axs[i])))\n",
    "    ax.set_title(f'Test {i+1}')\n",
    "    ax.set_ylim(4E-2, 2.0)\n",
    "_ = axs[0].set_ylabel('Error metric')\n",
    "\n",
    "fig, axs = plt.subplots(1, 1)\n",
    "for test in tests:\n",
    "    test.plot_ecf_sampling_fits((fig, plot_ecf_sampling(test, axs)))\n",
    "axs.set_xlim(min(tests[0].trials) * 0.9, max(tests[1].trials) * 1.1)\n",
    "axs.set_ylim(4E-2, 2.0)\n",
    "axs.legend(labels=[f'Test {i+1}' for i in range(len(tests))])\n",
    "_ = axs.set_ylabel('Error metric')"
   ]
  },
  {
   "cell_type": "code",
   "execution_count": null,
   "metadata": {},
   "outputs": [],
   "source": [
    "fig_ax = plt.subplots(1, 1, figsize=(12.0, 5.0), layout='compressed')\n",
    "\n",
    "data = []\n",
    "labels = []\n",
    "for t in test_kwargs['trials']:\n",
    "    for i, test in enumerate(tests):\n",
    "        data.append(test.ks_stats_sampling[t])\n",
    "        labels.append(f'{t}/{i+1}')\n",
    "\n",
    "bplot = fig_ax[1].boxplot(data, labels=labels, vert=True, patch_artist=True)\n",
    "fig_ax[1].set_yscale('log')\n",
    "fig_ax[1].set_xlabel('Sample size/Test')\n",
    "fig_ax[1].set_ylabel('Test for reproducibility EFECT error')\n",
    "fig_ax[1].set_xticklabels(fig_ax[1].get_xticklabels(), rotation=90, ha='right')\n",
    "\n",
    "color_names = list(mcolors.TABLEAU_COLORS)\n",
    "for i, patch in enumerate(bplot['boxes']):\n",
    "    patch.set_facecolor(color_names[i % len(tests)])"
   ]
  },
  {
   "cell_type": "code",
   "execution_count": null,
   "metadata": {},
   "outputs": [],
   "source": [
    "for i in range(len(tests)):\n",
    "    fp = f'proto_compare_var_1_{i+1}.json'\n",
    "    print('Saving output:', fp)\n",
    "    tests[i].save(fp)\n",
    "fp_summary = 'proto_compare_var_1_inputs.json'\n",
    "print('Outputting summary:', fp_summary)\n",
    "with open(fp_summary, 'w') as f:\n",
    "    output_data = dict(\n",
    "        beta_mean=beta_mean,\n",
    "        beta_stdevs={f'proto_compare_var_1_{i+1}.json': beta_stdevs[i] for i in range(len(tests))}\n",
    "    )\n",
    "    json.dump(output_data, f, indent=4)"
   ]
  }
 ],
 "metadata": {
  "kernelspec": {
   "display_name": "stoch_repro",
   "language": "python",
   "name": "python3"
  },
  "language_info": {
   "codemirror_mode": {
    "name": "ipython",
    "version": 3
   },
   "file_extension": ".py",
   "mimetype": "text/x-python",
   "name": "python",
   "nbconvert_exporter": "python",
   "pygments_lexer": "ipython3",
   "version": "3.10.13"
  }
 },
 "nbformat": 4,
 "nbformat_minor": 2
}
