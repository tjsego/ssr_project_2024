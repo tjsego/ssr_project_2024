{
 "cells": [
  {
   "cell_type": "code",
   "execution_count": null,
   "id": "db98b586",
   "metadata": {},
   "outputs": [],
   "source": [
    "import ipywidgets as ipw\n",
    "from IPython.display import display\n",
    "\n",
    "from stochastic_repro import start_pool\n",
    "from stochastic_models import model_seir\n",
    "from stochastic_tests import Test\n",
    "\n",
    "t_fin = 100.0\n",
    "num_steps = 100\n",
    "\n",
    "test = Test(model=model_seir(),\n",
    "            t_fin=t_fin,\n",
    "            num_steps=num_steps,\n",
    "            sample_times=[t_fin / num_steps * i for i in range(1, num_steps + 1)],\n",
    "            trials=[10, 100, 1000, 10000],\n",
    "            stochastic=True)"
   ]
  },
  {
   "cell_type": "code",
   "execution_count": null,
   "id": "e104891a",
   "metadata": {},
   "outputs": [],
   "source": [
    "test.execute_deterministic()\n",
    "_ = test.plot_results_deterministic()"
   ]
  },
  {
   "cell_type": "markdown",
   "id": "e682c8b3",
   "metadata": {},
   "source": [
    "Stochastic simulation results can be treated as a distribution with statistical properties such as mean and standard deviation. Distributions should become smooth with increasing number of trials. "
   ]
  },
  {
   "cell_type": "code",
   "execution_count": null,
   "id": "57fd9644",
   "metadata": {
    "scrolled": false
   },
   "outputs": [],
   "source": [
    "label, out = ipw.Label(), ipw.Output()\n",
    "display(out)\n",
    "with out:\n",
    "    display(label)\n",
    "\n",
    "start_pool()\n",
    "test.execute_stochastic(label)\n",
    "_ = out.clear_output()"
   ]
  },
  {
   "cell_type": "markdown",
   "id": "bd44bd96",
   "metadata": {},
   "source": [
    "We should find that results distributions become smooth as the number of trials increases. "
   ]
  },
  {
   "cell_type": "code",
   "execution_count": null,
   "id": "77e432e1",
   "metadata": {
    "scrolled": true
   },
   "outputs": [],
   "source": [
    "_ = test.plot_results_stochastic()"
   ]
  },
  {
   "cell_type": "code",
   "execution_count": null,
   "id": "bb4fa198",
   "metadata": {},
   "outputs": [],
   "source": [
    "_ = test.plot_stats()"
   ]
  },
  {
   "cell_type": "code",
   "execution_count": null,
   "id": "f6f55c36",
   "metadata": {},
   "outputs": [],
   "source": [
    "_ = test.plot_distributions()"
   ]
  },
  {
   "cell_type": "markdown",
   "id": "e2262831",
   "metadata": {},
   "source": [
    "Results distributions should converge as the number of trials increases. At any sampled simulation time, convergence appears as a distribution that converges with increasing number of trials. Convergence can be quantified by measuring the change in distribution for an increase in number of trials. We should find that the change in distribution goes to zero everywhere as the number of trials increases. "
   ]
  },
  {
   "cell_type": "code",
   "execution_count": null,
   "id": "74edecf3",
   "metadata": {},
   "outputs": [],
   "source": [
    "# progress_bar, out = ipw.IntProgress(), ipw.Output()\n",
    "# progress_bar.max = (len(test.trials) - 1) * len(test.model.results_names)\n",
    "# display(out)\n",
    "\n",
    "# with out:\n",
    "#     label = ipw.Label(value='Calculating differences...')\n",
    "#     vbox = ipw.VBox([label, progress_bar])\n",
    "#     display(vbox)\n",
    "\n",
    "# test.measure_dist_diff_basic(progress_bar=progress_bar)\n",
    "# out.clear_output()\n",
    "\n",
    "# _ = test.plot_dist_diff(test.acc_diff_basic[0.0])"
   ]
  },
  {
   "cell_type": "code",
   "execution_count": null,
   "id": "e97ef5a7",
   "metadata": {},
   "outputs": [],
   "source": [
    "# progress_bar, out = ipw.IntProgress(), ipw.Output()\n",
    "# progress_bar.max = (len(test.trials) - 1) * len(test.model.results_names)\n",
    "# display(out)\n",
    "\n",
    "# with out:\n",
    "#     label = ipw.Label(value='Calculating differences...')\n",
    "#     vbox = ipw.VBox([label, progress_bar])\n",
    "#     display(vbox)\n",
    "\n",
    "# test.measure_dist_diff_basic(filter=0.05, progress_bar=progress_bar)\n",
    "# out.clear_output()\n",
    "\n",
    "# _ = test.plot_dist_diff(test.acc_diff_basic[0.05])"
   ]
  },
  {
   "cell_type": "code",
   "execution_count": null,
   "id": "5627fb7b",
   "metadata": {},
   "outputs": [],
   "source": [
    "# progress_bar, out = ipw.IntProgress(), ipw.Output()\n",
    "# progress_bar.max = (len(test.trials) - 1) * len(test.model.results_names)\n",
    "# display(out)\n",
    "\n",
    "# with out:\n",
    "#     label = ipw.Label(value='Calculating differences...')\n",
    "#     vbox = ipw.VBox([label, progress_bar])\n",
    "#     display(vbox)\n",
    "\n",
    "# test.measure_dist_div_kldiv(progress_bar=progress_bar)\n",
    "# out.clear_output()\n",
    "\n",
    "# _ = test.plot_dist_diff(test.acc_diff_kl_div)"
   ]
  },
  {
   "cell_type": "code",
   "execution_count": null,
   "id": "bd4bd5a3",
   "metadata": {},
   "outputs": [],
   "source": [
    "# out = ipw.Output()\n",
    "# display(out)\n",
    "\n",
    "# with out:\n",
    "#     print('Analyzing correlations...')\n",
    "# test.measure_correlation()\n",
    "# out.clear_output()\n",
    "\n",
    "# _ = test.plot_correlations()"
   ]
  },
  {
   "cell_type": "code",
   "execution_count": null,
   "id": "78b2a1a0",
   "metadata": {},
   "outputs": [],
   "source": [
    "test.find_ecfs()\n",
    "test.measure_ecf_diffs()"
   ]
  },
  {
   "cell_type": "code",
   "execution_count": null,
   "id": "d55c0bff",
   "metadata": {},
   "outputs": [],
   "source": [
    "for t in test.trials:\n",
    "    ecf_ks_stat_t = {n: -1 for n in test.model.results_names}\n",
    "    for ks in test.ecf_ks_stat[t]:\n",
    "        for n, ks_stat in ks.items():\n",
    "            ecf_ks_stat_t[n] = max(ecf_ks_stat_t[n], ks_stat)\n",
    "    print(f'{t} trials')\n",
    "    for n, ks_stat in ecf_ks_stat_t.items():\n",
    "        print(f'\\t{n}: {ks_stat}')"
   ]
  },
  {
   "cell_type": "code",
   "execution_count": null,
   "id": "3264e54e",
   "metadata": {},
   "outputs": [],
   "source": [
    "preview_time = test.max_ks_stat_time(test.trials[-1])\n",
    "# preview_time = test.min_final_eval_time(test.trials[-1])\n",
    "\n",
    "test.plot_ecf(time=preview_time)\n",
    "test.plot_ecf_diffs()\n",
    "_ = test.plot_ecf_comparison(time=preview_time)"
   ]
  },
  {
   "cell_type": "code",
   "execution_count": null,
   "id": "21ee5f08",
   "metadata": {},
   "outputs": [],
   "source": [
    "test.generate_ecf_diff_fits()"
   ]
  },
  {
   "cell_type": "code",
   "execution_count": null,
   "id": "60cb6fd1",
   "metadata": {},
   "outputs": [],
   "source": [
    "_, axs = test.plot_ecf_diff_fits(test.plot_ecf_diffs())\n",
    "_ = axs[0].legend()"
   ]
  },
  {
   "cell_type": "code",
   "execution_count": null,
   "id": "739ec19e",
   "metadata": {},
   "outputs": [],
   "source": [
    "# Runtime: ~9 minutes (M1 max)\n",
    "test.test_sampling(err_thresh=1E-3)"
   ]
  },
  {
   "cell_type": "code",
   "execution_count": null,
   "id": "57612e5d",
   "metadata": {},
   "outputs": [],
   "source": [
    "_ = test.plot_ks_sampling()"
   ]
  },
  {
   "cell_type": "code",
   "execution_count": null,
   "id": "b54e5733",
   "metadata": {},
   "outputs": [],
   "source": [
    "test.generate_ecf_sampling_fits()\n",
    "_, ax = test.plot_ecf_sampling_fits(test.plot_ecf_sampling())\n",
    "_ = ax.legend()"
   ]
  }
 ],
 "metadata": {
  "kernelspec": {
   "display_name": "Python 3",
   "language": "python",
   "name": "python3"
  },
  "language_info": {
   "codemirror_mode": {
    "name": "ipython",
    "version": 3
   },
   "file_extension": ".py",
   "mimetype": "text/x-python",
   "name": "python",
   "nbconvert_exporter": "python",
   "pygments_lexer": "ipython3",
   "version": "3.10.13"
  }
 },
 "nbformat": 4,
 "nbformat_minor": 5
}
