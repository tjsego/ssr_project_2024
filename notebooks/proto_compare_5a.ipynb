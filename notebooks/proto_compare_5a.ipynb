{
 "cells": [
  {
   "cell_type": "markdown",
   "metadata": {},
   "source": [
    "This example tests whether an approach that uses empirical characteristic functions (ECFs) can detect differences in models with different parameters. "
   ]
  },
  {
   "cell_type": "code",
   "execution_count": null,
   "metadata": {},
   "outputs": [],
   "source": [
    "from matplotlib import pyplot as plt\n",
    "import ipywidgets as ipw\n",
    "from IPython.display import display\n",
    "\n",
    "from stochastic_models import model_tellurium_ex\n",
    "from stochastic_tests import Test\n",
    "import stochastic_repro as sr\n",
    "\n",
    "t_fin = 50.0\n",
    "num_steps = 1000\n",
    "test_kwargs = dict(t_fin=t_fin, \n",
    "                   num_steps=num_steps, \n",
    "                   sample_times=[t_fin / num_steps * i for i in range(0, num_steps + 1)], \n",
    "                   trials=[100, 1000, 10000])\n",
    "\n",
    "k11 = 0.1\n",
    "k12 = 0.11\n",
    "\n",
    "test1 = Test(model=model_tellurium_ex(mods={'k1': k11}), stochastic=True, **test_kwargs)\n",
    "test2 = Test(model=model_tellurium_ex(mods={'k1': k12}), stochastic=True, **test_kwargs)\n",
    "tests = [test1, test2]"
   ]
  },
  {
   "cell_type": "code",
   "execution_count": null,
   "metadata": {},
   "outputs": [],
   "source": [
    "for test in tests:\n",
    "    test.execute_deterministic()\n",
    "    _ = test.plot_results_deterministic()"
   ]
  },
  {
   "cell_type": "code",
   "execution_count": null,
   "metadata": {},
   "outputs": [],
   "source": [
    "label, out = ipw.Label(), ipw.Output()\n",
    "display(out)\n",
    "with out:\n",
    "    display(label)\n",
    "\n",
    "for test in tests:\n",
    "    test.execute_stochastic(label)\n",
    "_ = out.clear_output()"
   ]
  },
  {
   "cell_type": "code",
   "execution_count": null,
   "metadata": {},
   "outputs": [],
   "source": [
    "for test in tests:\n",
    "    _ = test.plot_results_stochastic()"
   ]
  },
  {
   "cell_type": "code",
   "execution_count": null,
   "metadata": {},
   "outputs": [],
   "source": [
    "for test in tests:\n",
    "    _ = test.plot_distributions()"
   ]
  },
  {
   "cell_type": "code",
   "execution_count": null,
   "metadata": {},
   "outputs": [],
   "source": [
    "# Runtime: ~X minutes (M1 max)\n",
    "for test in [test1, test2]:\n",
    "    test.find_ecfs()\n",
    "    test.measure_ecf_diffs()\n",
    "    test.plot_ecf(test.max_ks_stat_time(test.trials[-1]))\n",
    "    test.plot_ecf_diffs()\n",
    "    test.test_sampling(err_thresh=1E-3)\n",
    "    test.generate_ecf_sampling_fits()\n",
    "    _, ax = test.plot_ecf_sampling_fits(test.plot_ecf_sampling())\n",
    "    _ = ax.legend()"
   ]
  },
  {
   "cell_type": "markdown",
   "metadata": {},
   "source": [
    "Comparing the converged ECF of the two models, we should find that they are always quantifiably different since their models have different parameters."
   ]
  },
  {
   "cell_type": "code",
   "execution_count": null,
   "metadata": {},
   "outputs": [],
   "source": [
    "ecf_diff = sr.measure_ecf_diff_sets(test1.ecf, test2.ecf)\n",
    "\n",
    "fig, ax = plt.subplots(1, len(test1.model.results_names), sharey=False, figsize=(12.0, 2.0), layout='compressed')\n",
    "for i, name in enumerate(test1.model.results_names):\n",
    "    ax[i].scatter(test1.trials, [max([el[name] for el in ecf_diff[trial]]) for trial in test1.trials])\n",
    "    ax[i].set_xlabel('No. trials')\n",
    "    ax[i].set_xscale('log')\n",
    "fig.suptitle('Measure of empirical characteristic functions')"
   ]
  },
  {
   "cell_type": "markdown",
   "metadata": {},
   "source": [
    "Testing for how well the method can detect differences in model parameters. "
   ]
  },
  {
   "cell_type": "code",
   "execution_count": null,
   "metadata": {},
   "outputs": [],
   "source": [
    "k1_fact = [0.5, 0.75, 0.9, 0.95, 0.99, 1.01, 1.05, 1.1, 1.5, 2.0]\n",
    "k1_test_kwargs = test_kwargs.copy()\n",
    "k1_test_kwargs['trials'] = [test_kwargs['trials'][-1]]\n",
    "k1_comp = list()\n",
    "\n",
    "label, out = ipw.Label(), ipw.Output()\n",
    "display(out)\n",
    "with out:\n",
    "    display(label)\n",
    "\n",
    "for bf in k1_fact:\n",
    "    label.value = f'Factor: {bf}...'\n",
    "\n",
    "    k1test = k11 * bf\n",
    "    test = Test(model=model_tellurium_ex(mods={'k1': k1test}), stochastic=True, **k1_test_kwargs)\n",
    "    test.execute_stochastic()\n",
    "    ecf2 = sr.generate_ecfs(test.sims_s, test1.sample_times, test1.model.results_names, test.trials, test1.ecf_eval_info)\n",
    "    k1_comp.append(sr.measure_ecf_diff_sets(ecf2, test1.ecf))\n",
    "\n",
    "out.clear_output()\n",
    "\n",
    "fig, ax = plt.subplots(1, len(test1.model.results_names), sharey=False, figsize=(12.0, 2.0), layout='compressed')\n",
    "for i, name in enumerate(test1.model.results_names):\n",
    "    ax[i].scatter(k1_fact, [max([el[name] for el in diff[test1.trials[-1]]]) for diff in k1_comp])\n",
    "    ax[i].set_xlabel('Parameter ratio')\n",
    "    ax[i].set_yscale('log')\n",
    "_ = fig.suptitle('Measure of empirical characteristic functions')"
   ]
  }
 ],
 "metadata": {
  "kernelspec": {
   "display_name": "stoch_repro",
   "language": "python",
   "name": "python3"
  },
  "language_info": {
   "codemirror_mode": {
    "name": "ipython",
    "version": 3
   },
   "file_extension": ".py",
   "mimetype": "text/x-python",
   "name": "python",
   "nbconvert_exporter": "python",
   "pygments_lexer": "ipython3",
   "version": "3.10.13"
  }
 },
 "nbformat": 4,
 "nbformat_minor": 2
}
