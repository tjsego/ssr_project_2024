{
 "cells": [
  {
   "cell_type": "markdown",
   "id": "9a666415",
   "metadata": {},
   "source": [
    "Model taken from \n",
    "\n",
    "    Smith, Amber M., and Amanda P. Smith. \"A critical, nonlinear threshold dictates bacterial invasion and initial kinetics during influenza.\" Scientific reports 6.1 (2016): 38703."
   ]
  },
  {
   "cell_type": "code",
   "execution_count": null,
   "id": "db3bf3a5",
   "metadata": {},
   "outputs": [],
   "source": [
    "import ipywidgets as ipw\n",
    "from IPython.display import display\n",
    "\n",
    "from stochastic_repro import start_pool\n",
    "from stochastic_models import model_coinfection\n",
    "from stochastic_tests import Test\n",
    "\n",
    "t_fin = 18.0\n",
    "num_steps = 100\n",
    "\n",
    "test = Test(model=model_coinfection({'beta': ('norm', (2.8E-6, 0.28E-6 * 2))}),\n",
    "            t_fin=t_fin,\n",
    "            num_steps=num_steps,\n",
    "            sample_times=[t_fin / num_steps * i for i in range(1, num_steps + 1)],\n",
    "            trials=[10, 100, 1000, 10000],\n",
    "            stochastic=False)"
   ]
  },
  {
   "cell_type": "code",
   "execution_count": null,
   "id": "b241042b",
   "metadata": {},
   "outputs": [],
   "source": [
    "test.execute_deterministic()\n",
    "_ = test.plot_results_deterministic()"
   ]
  },
  {
   "cell_type": "code",
   "execution_count": null,
   "id": "3184147f",
   "metadata": {},
   "outputs": [],
   "source": [
    "label, out = ipw.Label(), ipw.Output()\n",
    "display(out)\n",
    "with out:\n",
    "    display(label)\n",
    "\n",
    "start_pool()\n",
    "test.execute_stochastic(label)\n",
    "_ = out.clear_output()"
   ]
  },
  {
   "cell_type": "code",
   "execution_count": null,
   "id": "3ed53a0e",
   "metadata": {},
   "outputs": [],
   "source": [
    "_ = test.plot_results_stochastic()"
   ]
  },
  {
   "cell_type": "code",
   "execution_count": null,
   "id": "7d1a2362",
   "metadata": {},
   "outputs": [],
   "source": [
    "_ = test.plot_stats()"
   ]
  },
  {
   "cell_type": "code",
   "execution_count": null,
   "id": "bfb51c8b",
   "metadata": {},
   "outputs": [],
   "source": [
    "_ = test.plot_distributions()"
   ]
  },
  {
   "cell_type": "code",
   "execution_count": null,
   "id": "aa604d3a",
   "metadata": {},
   "outputs": [],
   "source": [
    "test.find_ecfs()\n",
    "test.measure_ecf_diffs()"
   ]
  },
  {
   "cell_type": "code",
   "execution_count": null,
   "id": "5f02c60b",
   "metadata": {},
   "outputs": [],
   "source": [
    "for t in test.trials:\n",
    "    ecf_ks_stat_t = {n: -1 for n in test.model.results_names}\n",
    "    for ks in test.ecf_ks_stat[t]:\n",
    "        for n, ks_stat in ks.items():\n",
    "            ecf_ks_stat_t[n] = max(ecf_ks_stat_t[n], ks_stat)\n",
    "    print(f'{t} trials')\n",
    "    for n, ks_stat in ecf_ks_stat_t.items():\n",
    "        print(f'\\t{n}: {ks_stat}')"
   ]
  },
  {
   "cell_type": "code",
   "execution_count": null,
   "id": "e760c8f1",
   "metadata": {},
   "outputs": [],
   "source": [
    "preview_time = test.max_ks_stat_time(test.trials[-1])\n",
    "# preview_time = test.min_final_eval_time(test.trials[-1])\n",
    "\n",
    "test.plot_ecf(time=preview_time)\n",
    "test.plot_ecf_diffs()\n",
    "_ = test.plot_ecf_comparison(time=preview_time)"
   ]
  },
  {
   "cell_type": "code",
   "execution_count": null,
   "id": "0bbe34e4",
   "metadata": {},
   "outputs": [],
   "source": [
    "test.generate_ecf_diff_fits()"
   ]
  },
  {
   "cell_type": "code",
   "execution_count": null,
   "id": "39f7aa26",
   "metadata": {},
   "outputs": [],
   "source": [
    "_, axs = test.plot_ecf_diff_fits(test.plot_ecf_diffs())\n",
    "_ = axs[0].legend()"
   ]
  },
  {
   "cell_type": "code",
   "execution_count": null,
   "id": "ea8bd8de",
   "metadata": {},
   "outputs": [],
   "source": [
    "# Runtime: ~12 minutes (M1 max)\n",
    "test.test_sampling(err_thresh=1E-3)"
   ]
  },
  {
   "cell_type": "code",
   "execution_count": null,
   "id": "f628c939",
   "metadata": {},
   "outputs": [],
   "source": [
    "_ = test.plot_ks_sampling()"
   ]
  },
  {
   "cell_type": "code",
   "execution_count": null,
   "id": "97e322c1",
   "metadata": {},
   "outputs": [],
   "source": [
    "test.generate_ecf_sampling_fits()\n",
    "_, ax = test.plot_ecf_sampling_fits(test.plot_ecf_sampling())\n",
    "_ = ax.legend()"
   ]
  }
 ],
 "metadata": {
  "kernelspec": {
   "display_name": "Python 3",
   "language": "python",
   "name": "python3"
  },
  "language_info": {
   "codemirror_mode": {
    "name": "ipython",
    "version": 3
   },
   "file_extension": ".py",
   "mimetype": "text/x-python",
   "name": "python",
   "nbconvert_exporter": "python",
   "pygments_lexer": "ipython3",
   "version": "3.10.13"
  }
 },
 "nbformat": 4,
 "nbformat_minor": 5
}
