{
 "cells": [
  {
   "cell_type": "markdown",
   "metadata": {},
   "source": [
    "Simulate what a curator would see when using the same model and significant figures but different simulators."
   ]
  },
  {
   "cell_type": "code",
   "execution_count": null,
   "metadata": {},
   "outputs": [],
   "source": [
    "import numpy as np\n",
    "import os\n",
    "import json\n",
    "import matplotlib.pyplot as plt\n",
    "\n",
    "import sim_lib\n",
    "\n",
    "res_dir = os.path.join('results', 'workflow_sim_2')\n",
    "curator_res_dir = os.path.join(res_dir, 'curator_results_same')\n",
    "fp = os.path.join(res_dir, 'sim_modeler.json')"
   ]
  },
  {
   "cell_type": "code",
   "execution_count": null,
   "metadata": {},
   "outputs": [],
   "source": [
    "with open(fp, 'r') as f:\n",
    "    modeler_metadata = sim_lib.Metadata.from_json(json.load(f))"
   ]
  },
  {
   "cell_type": "code",
   "execution_count": null,
   "metadata": {},
   "outputs": [],
   "source": [
    "stochastic = modeler_metadata.simulator == 'gillespie_ssa'\n",
    "t_fin = modeler_metadata.sample_times[-1]\n",
    "num_steps = modeler_metadata.sample_times.shape[0]\n",
    "ecf_eval_info = modeler_metadata.ecf_eval_info\n",
    "\n",
    "var_names = list(modeler_metadata.ecf_evals.keys())"
   ]
  },
  {
   "cell_type": "markdown",
   "metadata": {},
   "source": [
    "Get data from curator's implementation"
   ]
  },
  {
   "cell_type": "code",
   "execution_count": null,
   "metadata": {},
   "outputs": [],
   "source": [
    "results = dict()\n",
    "sample_times = np.zeros((num_steps,))\n",
    "\n",
    "for name in var_names:\n",
    "    sample_times, results_name = sim_lib.load_results_copasi(os.path.join(curator_res_dir, f'sim_curator_2_{name}.txt'),\n",
    "                                                             2 * modeler_metadata.sample_size,\n",
    "                                                             num_steps)\n",
    "    results[name] = sim_lib.round_arr_to_sigfigs(results_name, modeler_metadata.sig_figs)"
   ]
  },
  {
   "cell_type": "markdown",
   "metadata": {},
   "source": [
    "Show results, for reference"
   ]
  },
  {
   "cell_type": "code",
   "execution_count": null,
   "metadata": {},
   "outputs": [],
   "source": [
    "fig, axs = plt.subplots(1, len(var_names), figsize=(10.0, 3.0), layout='compressed')\n",
    "for i, name in enumerate(var_names):\n",
    "    for j in range(results[name].shape[0]):\n",
    "        axs[i].plot(sample_times, results[name][j, :], alpha=0.01, color='gray')\n",
    "    axs[i].set_title(name)\n",
    "    axs[i].set_xlabel('Time')"
   ]
  },
  {
   "cell_type": "markdown",
   "metadata": {},
   "source": [
    "Test against modeler's sampling data"
   ]
  },
  {
   "cell_type": "code",
   "execution_count": null,
   "metadata": {},
   "outputs": [],
   "source": [
    "sampling_err_thresh = 0.001\n",
    "ks_stats_samp = sim_lib.test_sampling(results, err_thresh=sampling_err_thresh)[0]\n",
    "print('Curator\\'s statistics:', np.average(ks_stats_samp), np.std(ks_stats_samp))\n",
    "print('Modeler\\'s statistics:', modeler_metadata.ks_stat_mean, modeler_metadata.ks_stat_stdev)"
   ]
  },
  {
   "cell_type": "markdown",
   "metadata": {},
   "source": [
    "Test against modeler's data"
   ]
  },
  {
   "cell_type": "code",
   "execution_count": null,
   "metadata": {},
   "outputs": [],
   "source": [
    "err_max = 0.0\n",
    "res_oi_idx = 0\n",
    "for name in var_names:\n",
    "    for i in range(num_steps):\n",
    "        eval_t = sim_lib.get_eval_info_times(*ecf_eval_info[name][i])\n",
    "        ecf_curator = sim_lib.ecf(results[name][:modeler_metadata.sample_size, i], eval_t)\n",
    "        err_i = sim_lib.ecf_compare(ecf_curator, modeler_metadata.ecf_evals[name][i])\n",
    "        if err_i > err_max:\n",
    "            res_oi_idx = int(i)\n",
    "            err_max = err_i\n",
    "\n",
    "fig, axs = plt.subplots(2, len(var_names), figsize=(10.0, 3.0), layout='compressed')\n",
    "for j, name in enumerate(var_names):\n",
    "    eval_t = sim_lib.get_eval_info_times(*ecf_eval_info[name][res_oi_idx])\n",
    "    ecf_curator = sim_lib.ecf(results[name][:modeler_metadata.sample_size, res_oi_idx], eval_t)\n",
    "    ecf_modeler = modeler_metadata.ecf_evals[name][res_oi_idx]\n",
    "    for i in range(2):\n",
    "        axs[i, j].plot(eval_t, ecf_curator[:, i], label='Curator')\n",
    "        axs[i, j].plot(eval_t, ecf_modeler[:, i], label='Modeler')\n",
    "    axs[0, j].set_title(name)\n",
    "axs[0, 0].legend()\n",
    "\n",
    "print('Maximum error:', err_max, res_oi_idx, sample_times[res_oi_idx])"
   ]
  },
  {
   "cell_type": "markdown",
   "metadata": {},
   "source": [
    "Plot distributions at a time of interest. "
   ]
  },
  {
   "cell_type": "code",
   "execution_count": null,
   "metadata": {},
   "outputs": [],
   "source": [
    "res_oi_idx = 2\n",
    "fig, ax = plt.subplots(len(var_names), 1, figsize=(10.0, 2.0 * len(var_names)), layout='compressed')\n",
    "\n",
    "for i, axi in enumerate(ax):\n",
    "    name = var_names[i]\n",
    "    axi.hist(results[name][:modeler_metadata.sample_size, res_oi_idx], density=True)\n",
    "    axi.set_title(name)"
   ]
  },
  {
   "cell_type": "markdown",
   "metadata": {},
   "source": [
    "Record data"
   ]
  },
  {
   "cell_type": "code",
   "execution_count": null,
   "metadata": {},
   "outputs": [],
   "source": [
    "with open(os.path.join(res_dir, 'simdata_curator_pass.json'), 'w') as f:\n",
    "    json.dump(dict(sample_size=2*modeler_metadata.sample_size,\n",
    "                   sampling_err_thresh=sampling_err_thresh,\n",
    "                   err_max=err_max,\n",
    "                   results_times=sample_times.tolist(),\n",
    "                   results={n: results[n].tolist() for n in var_names},\n",
    "                   ks_stats_samp=ks_stats_samp),\n",
    "              f, indent=4)"
   ]
  }
 ],
 "metadata": {
  "kernelspec": {
   "display_name": "stoch_repro",
   "language": "python",
   "name": "python3"
  },
  "language_info": {
   "codemirror_mode": {
    "name": "ipython",
    "version": 3
   },
   "file_extension": ".py",
   "mimetype": "text/x-python",
   "name": "python",
   "nbconvert_exporter": "python",
   "pygments_lexer": "ipython3",
   "version": "3.10.13"
  }
 },
 "nbformat": 4,
 "nbformat_minor": 2
}
