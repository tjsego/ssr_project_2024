{
 "cells": [
  {
   "cell_type": "markdown",
   "metadata": {},
   "source": [
    "Tests whether the method works for straight lines, and whether the method can descriminate between two different lines. "
   ]
  },
  {
   "cell_type": "code",
   "execution_count": null,
   "metadata": {},
   "outputs": [],
   "source": [
    "import ipywidgets as ipw\n",
    "from IPython.display import display\n",
    "from matplotlib import pyplot as plt\n",
    "\n",
    "from stochastic_models import model_lines\n",
    "import stochastic_repro as sr\n",
    "from stochastic_tests import Test\n",
    "\n",
    "t_fin = 1.0\n",
    "num_steps = 100\n",
    "\n",
    "test1 = Test(model=model_lines(),\n",
    "             t_fin=t_fin,\n",
    "             num_steps=num_steps,\n",
    "             sample_times=[t_fin / num_steps * i for i in range(1, num_steps + 1)],\n",
    "             trials=[10, 20],\n",
    "             stochastic=False)\n",
    "test2 = Test(model=model_lines(mods={'y': 2.0, 'z': 3.0}),\n",
    "             t_fin=t_fin,\n",
    "             num_steps=num_steps,\n",
    "             sample_times=[t_fin / num_steps * i for i in range(1, num_steps + 1)],\n",
    "             trials=[10, 20],\n",
    "             stochastic=False)"
   ]
  },
  {
   "cell_type": "code",
   "execution_count": null,
   "metadata": {},
   "outputs": [],
   "source": [
    "test1.execute_deterministic()\n",
    "_ = test1.plot_results_deterministic()\n",
    "test2.execute_deterministic()\n",
    "_ = test2.plot_results_deterministic()"
   ]
  },
  {
   "cell_type": "code",
   "execution_count": null,
   "metadata": {},
   "outputs": [],
   "source": [
    "label, out = ipw.Label(), ipw.Output()\n",
    "display(out)\n",
    "with out:\n",
    "    display(label)\n",
    "\n",
    "test1.execute_stochastic(label)\n",
    "test2.execute_stochastic(label)\n",
    "_ = out.clear_output()"
   ]
  },
  {
   "cell_type": "code",
   "execution_count": null,
   "metadata": {},
   "outputs": [],
   "source": [
    "_ = test1.plot_results_stochastic()\n",
    "_ = test2.plot_results_stochastic()"
   ]
  },
  {
   "cell_type": "markdown",
   "metadata": {},
   "source": [
    "For straight lines, we calculate obvious probability distribution functions. "
   ]
  },
  {
   "cell_type": "code",
   "execution_count": null,
   "metadata": {},
   "outputs": [],
   "source": [
    "_ = test1.plot_distributions()\n",
    "_ = test2.plot_distributions()"
   ]
  },
  {
   "cell_type": "markdown",
   "metadata": {},
   "source": [
    "We find that different lines have different characteristic functions. "
   ]
  },
  {
   "cell_type": "code",
   "execution_count": null,
   "metadata": {},
   "outputs": [],
   "source": [
    "test1.find_ecfs()\n",
    "test1.measure_ecf_diffs()\n",
    "test1.plot_ecf(test1.max_ks_stat_time(test1.trials[-1]))\n",
    "test1.plot_ecf_diffs()\n",
    "test1.plot_ecf_comparison(test1.max_ks_stat_time(test1.trials[-1]))\n",
    "test1.test_sampling(err_thresh=1E-3)\n",
    "test1.generate_ecf_sampling_fits()\n",
    "_, ax = test1.plot_ecf_sampling_fits(test1.plot_ecf_sampling())\n",
    "_ = ax.legend()\n",
    "\n",
    "test2.find_ecfs()\n",
    "test2.measure_ecf_diffs()\n",
    "test2.plot_ecf(test2.max_ks_stat_time(test2.trials[-1]))\n",
    "test2.plot_ecf_diffs()\n",
    "test2.plot_ecf_comparison(test2.max_ks_stat_time(test2.trials[-1]))\n",
    "test2.test_sampling(err_thresh=1E-3)\n",
    "test2.generate_ecf_sampling_fits()\n",
    "_, ax = test2.plot_ecf_sampling_fits(test2.plot_ecf_sampling())\n",
    "_ = ax.legend()"
   ]
  },
  {
   "cell_type": "markdown",
   "metadata": {},
   "source": [
    "Comparing the converged ECF of the two models, we should find that they are always quantifiably different since their models have different parameters."
   ]
  },
  {
   "cell_type": "code",
   "execution_count": null,
   "metadata": {},
   "outputs": [],
   "source": [
    "ecf_diff = sr.measure_ecf_diff_sets(test1.ecf, test2.ecf)\n",
    "\n",
    "fig, ax = plt.subplots(1, len(test1.model.results_names), sharey=False, figsize=(12.0, 2.0), layout='compressed')\n",
    "for i, name in enumerate(test1.model.results_names):\n",
    "    ax[i].scatter(test1.trials, [max([el[name] for el in ecf_diff[trial]]) for trial in test1.trials])\n",
    "    ax[i].set_xlabel('Sample size')\n",
    "    ax[i].set_xscale('log')\n",
    "    ax[i].set_title(name)\n",
    "ax[0].set_ylabel('EFECT error')\n",
    "_ = fig.suptitle('Test for reproducibility per variable')"
   ]
  }
 ],
 "metadata": {
  "kernelspec": {
   "display_name": "stoch_repro",
   "language": "python",
   "name": "python3"
  },
  "language_info": {
   "codemirror_mode": {
    "name": "ipython",
    "version": 3
   },
   "file_extension": ".py",
   "mimetype": "text/x-python",
   "name": "python",
   "nbconvert_exporter": "python",
   "pygments_lexer": "ipython3",
   "version": "3.10.13"
  }
 },
 "nbformat": 4,
 "nbformat_minor": 2
}
