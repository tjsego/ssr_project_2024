{
 "cells": [
  {
   "cell_type": "markdown",
   "metadata": {},
   "source": [
    "This example tests whether an approach that uses empirical characteristic functions (ECFs) can detect differences in models that are structurally different. "
   ]
  },
  {
   "cell_type": "code",
   "execution_count": null,
   "metadata": {},
   "outputs": [],
   "source": [
    "import ipywidgets as ipw\n",
    "from IPython.display import display\n",
    "\n",
    "from stochastic_models import model_lorentz, model_sir\n",
    "from stochastic_tests import Test\n",
    "\n",
    "t_fin = 10.0\n",
    "num_steps = 200\n",
    "test_kwargs = dict(t_fin=t_fin, \n",
    "                   num_steps=num_steps, \n",
    "                   trials=[100, 500, 1000, 5000, 10000], \n",
    "                   sample_times=[t_fin / num_steps * i for i in range(0, num_steps + 1)])\n",
    "\n",
    "test1 = Test(model=model_sir({'beta': ('norm', (2.0E-6, 0.2E-6))}), stochastic=False, **test_kwargs)\n",
    "test1.model.results_names = ['S', 'I', 'R']\n",
    "test2 = Test(model=model_lorentz(), stochastic=True, **test_kwargs)\n",
    "tests = [test1, test2]"
   ]
  },
  {
   "cell_type": "code",
   "execution_count": null,
   "metadata": {},
   "outputs": [],
   "source": [
    "for test in tests:\n",
    "    test.execute_deterministic()\n",
    "    _ = test.plot_results_deterministic()"
   ]
  },
  {
   "cell_type": "code",
   "execution_count": null,
   "metadata": {},
   "outputs": [],
   "source": [
    "label, out = ipw.Label(), ipw.Output()\n",
    "display(out)\n",
    "with out:\n",
    "    display(label)\n",
    "\n",
    "for test in tests:\n",
    "    test.execute_stochastic(label)\n",
    "_ = out.clear_output()"
   ]
  },
  {
   "cell_type": "code",
   "execution_count": null,
   "metadata": {},
   "outputs": [],
   "source": [
    "for test in tests:\n",
    "    _ = test.plot_results_stochastic()"
   ]
  },
  {
   "cell_type": "code",
   "execution_count": null,
   "metadata": {},
   "outputs": [],
   "source": [
    "for test in tests:\n",
    "    _ = test.plot_distributions()"
   ]
  },
  {
   "cell_type": "code",
   "execution_count": null,
   "metadata": {},
   "outputs": [],
   "source": [
    "for test in [test1, test2]:\n",
    "    test.find_ecfs()\n",
    "    test.measure_ecf_diffs()\n",
    "    test.plot_ecf(time=test.max_ks_stat_time(test.trials[-1]))\n",
    "    test.plot_ecf_diffs()\n",
    "    test.test_sampling(err_thresh=1E-3)\n",
    "    test.generate_ecf_sampling_fits()\n",
    "    _, ax = test.plot_ecf_sampling_fits(test.plot_ecf_sampling())\n",
    "    _ = ax.legend()"
   ]
  },
  {
   "cell_type": "markdown",
   "metadata": {},
   "source": [
    "Comparing the converged ECF of the two models, we should find that they are always quantifiably different since their models are structurally different."
   ]
  },
  {
   "cell_type": "code",
   "execution_count": null,
   "metadata": {},
   "outputs": [],
   "source": [
    "from matplotlib import pyplot as plt\n",
    "import stochastic_repro as sr\n",
    "\n",
    "# Trick the method into thinking that the models have the same variables\n",
    "\n",
    "ecf_eval_info = {t: [] for t in test1.trials}\n",
    "for t in test1.trials:\n",
    "    for i in range(len(test1.sample_times)):\n",
    "        ecf_eval_info[t].append({test2.model.results_names[i]: test1.ecf_eval_info[t][i][test1.model.results_names[i]] for i in range(len(test1.model.results_names))})\n",
    "ecf2 = sr.generate_ecfs(test2.sims_s, test2.model.results_names, test1.trials, ecf_eval_info)\n",
    "for t in test1.trials:\n",
    "    for i in range(len(test1.sample_times)):\n",
    "        for j in range(len(test1.model.results_names)):\n",
    "            ecf2[t][i][test1.model.results_names[j]] = ecf2[t][i].pop(test2.model.results_names[j])\n",
    "\n",
    "# Do the test\n",
    "\n",
    "ecf_diff = sr.measure_ecf_diff_sets(test1.ecf, ecf2)\n",
    "\n",
    "fig, ax = plt.subplots(1, len(test1.model.results_names), sharey=False, figsize=(12.0, 2.0), layout='compressed')\n",
    "\n",
    "for i, name in enumerate(test1.model.results_names):\n",
    "    ax[i].scatter(test1.trials, [max([ei[name] for ei in ecf_diff[trial]]) for trial in test1.trials])\n",
    "    ax[i].set_xlabel('Sample size')\n",
    "    ax[i].set_xscale('log')\n",
    "    ax[i].set_title(name)\n",
    "ax[0].set_ylabel('EFECT error')\n",
    "_ = fig.suptitle('Test for reproducibility per variable')"
   ]
  }
 ],
 "metadata": {
  "kernelspec": {
   "display_name": "stoch_repro",
   "language": "python",
   "name": "python3"
  },
  "language_info": {
   "codemirror_mode": {
    "name": "ipython",
    "version": 3
   },
   "file_extension": ".py",
   "mimetype": "text/x-python",
   "name": "python",
   "nbconvert_exporter": "python",
   "pygments_lexer": "ipython3",
   "version": "3.10.13"
  }
 },
 "nbformat": 4,
 "nbformat_minor": 2
}
