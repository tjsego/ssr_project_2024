{
 "cells": [
  {
   "cell_type": "markdown",
   "metadata": {},
   "source": [
    "Tests for reproducibility of results from a stochastic Boolean network model as a function of sample size."
   ]
  },
  {
   "cell_type": "code",
   "execution_count": null,
   "metadata": {},
   "outputs": [],
   "source": [
    "import ipywidgets as ipw\n",
    "from IPython.display import display\n",
    "import json\n",
    "from matplotlib import pyplot as plt\n",
    "import numpy as np\n",
    "import os\n",
    "from typing import Dict, List\n",
    "\n",
    "try:\n",
    "    from . import sim_lib\n",
    "except ImportError:\n",
    "    import sim_lib\n",
    "\n",
    "\n",
    "# Assume location of previously generated results.\n",
    "res_dir = os.path.join(os.getcwd(), 'results', 'boolean')"
   ]
  },
  {
   "cell_type": "code",
   "execution_count": null,
   "metadata": {},
   "outputs": [],
   "source": [
    "def get_data(fp: str):\n",
    "    with open(fp, 'r') as f:\n",
    "        data = json.load(f)\n",
    "\n",
    "    cell_ids: List[int] = data['cell_ids']\n",
    "    steps: List[int] = data['steps']\n",
    "    cell_data: List[Dict[int, Dict[str, float]]] = [{int(k): v for k, v in e.items()} for e in data['cell_data']]\n",
    "    var_names = list(cell_data[0][cell_ids[0]].keys())\n",
    "\n",
    "    output = {n: np.ndarray((len(cell_ids), len(steps)), dtype=float) for n in var_names}\n",
    "    for j, step_data in enumerate(cell_data):\n",
    "        for i, cd in step_data.items():\n",
    "            for n in var_names:\n",
    "                output[n][i, j] = cd[n]\n",
    "    return var_names, steps, output\n",
    "\n",
    "\n",
    "var_names = None\n",
    "steps = None\n",
    "data_sizes = {}\n",
    "for file_name in [f for f in os.listdir(res_dir) if f.startswith('output_') and f.endswith('.json')]:\n",
    "    var_names, steps, op = get_data(os.path.join(res_dir, file_name))\n",
    "    data_sizes[op[var_names[0]].shape[0]] = op\n",
    "sizes_sorted = list(data_sizes.keys())\n",
    "sizes_sorted.sort()"
   ]
  },
  {
   "cell_type": "code",
   "execution_count": null,
   "metadata": {},
   "outputs": [],
   "source": [
    "fig, axs = plt.subplots(len(data_sizes.keys()), len(var_names), figsize=(12.0, 2.0 * len(data_sizes.keys())))\n",
    "\n",
    "for i, sz in enumerate(sizes_sorted):\n",
    "    for j, name in enumerate(var_names):\n",
    "        data_name = data_sizes[sz][name]\n",
    "        for k in range(sz):\n",
    "            axs[i][j].plot(steps, data_name[k, :], alpha=0.01, color='gray')\n",
    "    axs[i][0].set_ylabel(f'Sample size: {sz}')\n",
    "for i, name in enumerate(var_names):\n",
    "    axs[0][i].set_title(name)"
   ]
  },
  {
   "cell_type": "code",
   "execution_count": null,
   "metadata": {},
   "outputs": [],
   "source": [
    "out = ipw.Output()\n",
    "display(out)\n",
    "\n",
    "ks_stats_sampling_sz = {}\n",
    "for sz, data_sz in data_sizes.items():\n",
    "    ks_stats_sampling_sz[sz] = sim_lib.test_sampling(data_sz, err_thresh=1E-3, out=out)[0]"
   ]
  },
  {
   "cell_type": "code",
   "execution_count": null,
   "metadata": {},
   "outputs": [],
   "source": [
    "with open(os.path.join(res_dir, 'output_summary.json'), 'w') as f:\n",
    "    json.dump(dict(error=ks_stats_sampling_sz), f, indent=4)"
   ]
  },
  {
   "cell_type": "code",
   "execution_count": null,
   "metadata": {},
   "outputs": [],
   "source": [
    "fig, ax = plt.subplots(1, 1, figsize=(6.0, 6.0))\n",
    "error_avg = [np.average(ks_stats_sampling_sz[sz]) for sz in sizes_sorted]\n",
    "error_std = [np.std(ks_stats_sampling_sz[sz]) for sz in sizes_sorted]\n",
    "ax.errorbar(sizes_sorted, error_avg, yerr=error_std, marker='o')\n",
    "ax.set_xscale('log')\n",
    "ax.set_yscale('log')\n",
    "ax.set_xlabel('Sample size')\n",
    "ax.set_ylabel('EFECT error')\n",
    "_ = ax.set_title('Test for reproducibility EFECT error')"
   ]
  }
 ],
 "metadata": {
  "kernelspec": {
   "display_name": "stoch_repro",
   "language": "python",
   "name": "python3"
  },
  "language_info": {
   "codemirror_mode": {
    "name": "ipython",
    "version": 3
   },
   "file_extension": ".py",
   "mimetype": "text/x-python",
   "name": "python",
   "nbconvert_exporter": "python",
   "pygments_lexer": "ipython3",
   "version": "3.10.13"
  }
 },
 "nbformat": 4,
 "nbformat_minor": 2
}
